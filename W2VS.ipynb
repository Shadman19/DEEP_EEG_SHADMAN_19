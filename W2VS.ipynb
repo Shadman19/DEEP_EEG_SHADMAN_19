{
  "nbformat": 4,
  "nbformat_minor": 0,
  "metadata": {
    "colab": {
      "name": "W2VS.ipynb",
      "provenance": [],
      "collapsed_sections": [],
      "include_colab_link": true
    },
    "kernelspec": {
      "name": "python3",
      "display_name": "Python 3"
    },
    "language_info": {
      "name": "python"
    }
  },
  "cells": [
    {
      "cell_type": "markdown",
      "metadata": {
        "id": "view-in-github",
        "colab_type": "text"
      },
      "source": [
        "<a href=\"https://colab.research.google.com/github/Shadman19/DEEP_EEG_SHADMAN_19/blob/main/W2VS.ipynb\" target=\"_parent\"><img src=\"https://colab.research.google.com/assets/colab-badge.svg\" alt=\"Open In Colab\"/></a>"
      ]
    },
    {
      "cell_type": "code",
      "metadata": {
        "id": "f0BKu4aqwiwj"
      },
      "source": [
        "import numpy as np\n",
        "from tensorflow.keras.preprocessing.text import one_hot\n",
        "from tensorflow.keras.preprocessing.sequence import pad_sequences\n",
        "from tensorflow.keras.models import Sequential\n",
        "from tensorflow.keras.layers import Dense\n",
        "from tensorflow.keras.layers import Flatten, Embedding"
      ],
      "execution_count": 1,
      "outputs": []
    },
    {
      "cell_type": "code",
      "metadata": {
        "id": "SmCS9AsPtXNs"
      },
      "source": [
        "corpus = ['king is a strong man',\n",
        "          'queen is a wise woman', \n",
        "          'boy is a young man',\n",
        "          'girl is a young woman',\n",
        "          'prince is a young king',\n",
        "          'princess is a young queen',\n",
        "          'man is strong',\n",
        "          'woman is pretty',\n",
        "          'prince is a boy will be king',\n",
        "          'princess is a girl will be queen']"
      ],
      "execution_count": 2,
      "outputs": []
    },
    {
      "cell_type": "code",
      "metadata": {
        "id": "f2pGoq-GwqGh"
      },
      "source": [
        "def remove_stop_words(corpus):\n",
        "    stop_words = ['is','a','will','be']\n",
        "    results = []\n",
        "    for text in corpus:\n",
        "        tmp = text.split(' ')\n",
        "        for stop_word in stop_words:\n",
        "            if stop_word in tmp:\n",
        "                tmp.remove(stop_word)\n",
        "        results.append(\" \".join(tmp))\n",
        "\n",
        "    return results"
      ],
      "execution_count": 3,
      "outputs": []
    },
    {
      "cell_type": "code",
      "metadata": {
        "id": "0aiL6grhyDYI"
      },
      "source": [
        "corpus = remove_stop_words(corpus)"
      ],
      "execution_count": 4,
      "outputs": []
    },
    {
      "cell_type": "code",
      "metadata": {
        "colab": {
          "base_uri": "https://localhost:8080/"
        },
        "id": "Mb8LnhsP6piM",
        "outputId": "07a34ace-bf79-431c-8dd9-f977f0a1cfaf"
      },
      "source": [
        "corpus"
      ],
      "execution_count": 5,
      "outputs": [
        {
          "output_type": "execute_result",
          "data": {
            "text/plain": [
              "['king strong man',\n",
              " 'queen wise woman',\n",
              " 'boy young man',\n",
              " 'girl young woman',\n",
              " 'prince young king',\n",
              " 'princess young queen',\n",
              " 'man strong',\n",
              " 'woman pretty',\n",
              " 'prince boy king',\n",
              " 'princess girl queen']"
            ]
          },
          "metadata": {},
          "execution_count": 5
        }
      ]
    },
    {
      "cell_type": "code",
      "metadata": {
        "id": "NKA2I4OfyNnm"
      },
      "source": [
        "words = []\n",
        "for text in corpus:\n",
        "    for word in text.split(' '):\n",
        "        words.append(word)\n",
        "\n",
        "words = set(words)"
      ],
      "execution_count": 6,
      "outputs": []
    },
    {
      "cell_type": "code",
      "metadata": {
        "colab": {
          "base_uri": "https://localhost:8080/"
        },
        "id": "Elh0FG7-zvkH",
        "outputId": "0e403aab-8935-4551-e0f9-fa3f6c14e824"
      },
      "source": [
        "words"
      ],
      "execution_count": 7,
      "outputs": [
        {
          "output_type": "execute_result",
          "data": {
            "text/plain": [
              "{'boy',\n",
              " 'girl',\n",
              " 'king',\n",
              " 'man',\n",
              " 'pretty',\n",
              " 'prince',\n",
              " 'princess',\n",
              " 'queen',\n",
              " 'strong',\n",
              " 'wise',\n",
              " 'woman',\n",
              " 'young'}"
            ]
          },
          "metadata": {},
          "execution_count": 7
        }
      ]
    },
    {
      "cell_type": "code",
      "metadata": {
        "id": "LUBmBDN8zxbv"
      },
      "source": [
        "word2int = {}\n",
        "\n",
        "for i,word in enumerate(words):\n",
        "    word2int[word] = i\n",
        "\n",
        "sentences = []\n",
        "for sentence in corpus:\n",
        "    sentences.append(sentence.split())\n",
        "\n",
        "WINDOW_SIZE = 2\n",
        "\n",
        "data = []\n",
        "for sentence in sentences:\n",
        "    for idx, word in enumerate(sentence):\n",
        "        for neighbor in sentence[max(idx - WINDOW_SIZE, 0) : min(idx + WINDOW_SIZE, len(sentence))+1]:\n",
        "          if neighbor != word:\n",
        "              data.append([word, neighbor])"
      ],
      "execution_count": 8,
      "outputs": []
    },
    {
      "cell_type": "code",
      "metadata": {
        "colab": {
          "base_uri": "https://localhost:8080/"
        },
        "id": "TAzId-RH4_uK",
        "outputId": "1fad9e35-0410-4ff0-94a9-f5f18730e1e3"
      },
      "source": [
        "import pandas as pd\n",
        "for text in corpus:\n",
        "    print(text)\n",
        "#original\n",
        "df = pd.DataFrame(data, columns = ['input', 'label'])\n",
        "#koo\n",
        "#df = pd.DataFrame(data)\n"
      ],
      "execution_count": 9,
      "outputs": [
        {
          "output_type": "stream",
          "name": "stdout",
          "text": [
            "king strong man\n",
            "queen wise woman\n",
            "boy young man\n",
            "girl young woman\n",
            "prince young king\n",
            "princess young queen\n",
            "man strong\n",
            "woman pretty\n",
            "prince boy king\n",
            "princess girl queen\n"
          ]
        }
      ]
    },
    {
      "cell_type": "code",
      "metadata": {
        "colab": {
          "base_uri": "https://localhost:8080/"
        },
        "id": "Tme98jBFrxAL",
        "outputId": "aa71473d-4502-41cc-d29d-7376c9942e3a"
      },
      "source": [
        "#koo\n",
        "data"
      ],
      "execution_count": 10,
      "outputs": [
        {
          "output_type": "execute_result",
          "data": {
            "text/plain": [
              "[['king', 'strong'],\n",
              " ['king', 'man'],\n",
              " ['strong', 'king'],\n",
              " ['strong', 'man'],\n",
              " ['man', 'king'],\n",
              " ['man', 'strong'],\n",
              " ['queen', 'wise'],\n",
              " ['queen', 'woman'],\n",
              " ['wise', 'queen'],\n",
              " ['wise', 'woman'],\n",
              " ['woman', 'queen'],\n",
              " ['woman', 'wise'],\n",
              " ['boy', 'young'],\n",
              " ['boy', 'man'],\n",
              " ['young', 'boy'],\n",
              " ['young', 'man'],\n",
              " ['man', 'boy'],\n",
              " ['man', 'young'],\n",
              " ['girl', 'young'],\n",
              " ['girl', 'woman'],\n",
              " ['young', 'girl'],\n",
              " ['young', 'woman'],\n",
              " ['woman', 'girl'],\n",
              " ['woman', 'young'],\n",
              " ['prince', 'young'],\n",
              " ['prince', 'king'],\n",
              " ['young', 'prince'],\n",
              " ['young', 'king'],\n",
              " ['king', 'prince'],\n",
              " ['king', 'young'],\n",
              " ['princess', 'young'],\n",
              " ['princess', 'queen'],\n",
              " ['young', 'princess'],\n",
              " ['young', 'queen'],\n",
              " ['queen', 'princess'],\n",
              " ['queen', 'young'],\n",
              " ['man', 'strong'],\n",
              " ['strong', 'man'],\n",
              " ['woman', 'pretty'],\n",
              " ['pretty', 'woman'],\n",
              " ['prince', 'boy'],\n",
              " ['prince', 'king'],\n",
              " ['boy', 'prince'],\n",
              " ['boy', 'king'],\n",
              " ['king', 'prince'],\n",
              " ['king', 'boy'],\n",
              " ['princess', 'girl'],\n",
              " ['princess', 'queen'],\n",
              " ['girl', 'princess'],\n",
              " ['girl', 'queen'],\n",
              " ['queen', 'princess'],\n",
              " ['queen', 'girl']]"
            ]
          },
          "metadata": {},
          "execution_count": 10
        }
      ]
    },
    {
      "cell_type": "code",
      "metadata": {
        "id": "E_sthc5BuxBv"
      },
      "source": [
        "#koo\n",
        "#x = df.drop([1],axis=1)\n",
        "#x"
      ],
      "execution_count": 11,
      "outputs": []
    },
    {
      "cell_type": "code",
      "metadata": {
        "id": "BUP6PxrxvkQl"
      },
      "source": [
        "#y = df.drop([0],axis=1)\n",
        "#y"
      ],
      "execution_count": 12,
      "outputs": []
    },
    {
      "cell_type": "code",
      "metadata": {
        "colab": {
          "base_uri": "https://localhost:8080/"
        },
        "id": "r857T7tpo1wo",
        "outputId": "297fdbc7-d70e-4597-9165-31dd38bb344a"
      },
      "source": [
        "type(corpus)"
      ],
      "execution_count": 13,
      "outputs": [
        {
          "output_type": "execute_result",
          "data": {
            "text/plain": [
              "list"
            ]
          },
          "metadata": {},
          "execution_count": 13
        }
      ]
    },
    {
      "cell_type": "code",
      "metadata": {
        "id": "qI0WbrTNofQp"
      },
      "source": [
        "#type(x)"
      ],
      "execution_count": 14,
      "outputs": []
    },
    {
      "cell_type": "code",
      "metadata": {
        "id": "4dMT-bRIo630"
      },
      "source": [
        "#type(y)"
      ],
      "execution_count": 15,
      "outputs": []
    },
    {
      "cell_type": "code",
      "metadata": {
        "id": "l2T7Ey5fvujX"
      },
      "source": [
        "#vocab_size = 100\n",
        "#encoded_data = [one_hot(d,vocab_size) for d in data]\n",
        "#print(encoded_data)"
      ],
      "execution_count": 16,
      "outputs": []
    },
    {
      "cell_type": "code",
      "metadata": {
        "colab": {
          "base_uri": "https://localhost:8080/",
          "height": 1000
        },
        "id": "1Oo9z8qXtFpH",
        "outputId": "73a27891-2c8a-4053-c751-b45316e75309"
      },
      "source": [
        "#koo\n",
        "df"
      ],
      "execution_count": 17,
      "outputs": [
        {
          "output_type": "execute_result",
          "data": {
            "text/html": [
              "<div>\n",
              "<style scoped>\n",
              "    .dataframe tbody tr th:only-of-type {\n",
              "        vertical-align: middle;\n",
              "    }\n",
              "\n",
              "    .dataframe tbody tr th {\n",
              "        vertical-align: top;\n",
              "    }\n",
              "\n",
              "    .dataframe thead th {\n",
              "        text-align: right;\n",
              "    }\n",
              "</style>\n",
              "<table border=\"1\" class=\"dataframe\">\n",
              "  <thead>\n",
              "    <tr style=\"text-align: right;\">\n",
              "      <th></th>\n",
              "      <th>input</th>\n",
              "      <th>label</th>\n",
              "    </tr>\n",
              "  </thead>\n",
              "  <tbody>\n",
              "    <tr>\n",
              "      <th>0</th>\n",
              "      <td>king</td>\n",
              "      <td>strong</td>\n",
              "    </tr>\n",
              "    <tr>\n",
              "      <th>1</th>\n",
              "      <td>king</td>\n",
              "      <td>man</td>\n",
              "    </tr>\n",
              "    <tr>\n",
              "      <th>2</th>\n",
              "      <td>strong</td>\n",
              "      <td>king</td>\n",
              "    </tr>\n",
              "    <tr>\n",
              "      <th>3</th>\n",
              "      <td>strong</td>\n",
              "      <td>man</td>\n",
              "    </tr>\n",
              "    <tr>\n",
              "      <th>4</th>\n",
              "      <td>man</td>\n",
              "      <td>king</td>\n",
              "    </tr>\n",
              "    <tr>\n",
              "      <th>5</th>\n",
              "      <td>man</td>\n",
              "      <td>strong</td>\n",
              "    </tr>\n",
              "    <tr>\n",
              "      <th>6</th>\n",
              "      <td>queen</td>\n",
              "      <td>wise</td>\n",
              "    </tr>\n",
              "    <tr>\n",
              "      <th>7</th>\n",
              "      <td>queen</td>\n",
              "      <td>woman</td>\n",
              "    </tr>\n",
              "    <tr>\n",
              "      <th>8</th>\n",
              "      <td>wise</td>\n",
              "      <td>queen</td>\n",
              "    </tr>\n",
              "    <tr>\n",
              "      <th>9</th>\n",
              "      <td>wise</td>\n",
              "      <td>woman</td>\n",
              "    </tr>\n",
              "    <tr>\n",
              "      <th>10</th>\n",
              "      <td>woman</td>\n",
              "      <td>queen</td>\n",
              "    </tr>\n",
              "    <tr>\n",
              "      <th>11</th>\n",
              "      <td>woman</td>\n",
              "      <td>wise</td>\n",
              "    </tr>\n",
              "    <tr>\n",
              "      <th>12</th>\n",
              "      <td>boy</td>\n",
              "      <td>young</td>\n",
              "    </tr>\n",
              "    <tr>\n",
              "      <th>13</th>\n",
              "      <td>boy</td>\n",
              "      <td>man</td>\n",
              "    </tr>\n",
              "    <tr>\n",
              "      <th>14</th>\n",
              "      <td>young</td>\n",
              "      <td>boy</td>\n",
              "    </tr>\n",
              "    <tr>\n",
              "      <th>15</th>\n",
              "      <td>young</td>\n",
              "      <td>man</td>\n",
              "    </tr>\n",
              "    <tr>\n",
              "      <th>16</th>\n",
              "      <td>man</td>\n",
              "      <td>boy</td>\n",
              "    </tr>\n",
              "    <tr>\n",
              "      <th>17</th>\n",
              "      <td>man</td>\n",
              "      <td>young</td>\n",
              "    </tr>\n",
              "    <tr>\n",
              "      <th>18</th>\n",
              "      <td>girl</td>\n",
              "      <td>young</td>\n",
              "    </tr>\n",
              "    <tr>\n",
              "      <th>19</th>\n",
              "      <td>girl</td>\n",
              "      <td>woman</td>\n",
              "    </tr>\n",
              "    <tr>\n",
              "      <th>20</th>\n",
              "      <td>young</td>\n",
              "      <td>girl</td>\n",
              "    </tr>\n",
              "    <tr>\n",
              "      <th>21</th>\n",
              "      <td>young</td>\n",
              "      <td>woman</td>\n",
              "    </tr>\n",
              "    <tr>\n",
              "      <th>22</th>\n",
              "      <td>woman</td>\n",
              "      <td>girl</td>\n",
              "    </tr>\n",
              "    <tr>\n",
              "      <th>23</th>\n",
              "      <td>woman</td>\n",
              "      <td>young</td>\n",
              "    </tr>\n",
              "    <tr>\n",
              "      <th>24</th>\n",
              "      <td>prince</td>\n",
              "      <td>young</td>\n",
              "    </tr>\n",
              "    <tr>\n",
              "      <th>25</th>\n",
              "      <td>prince</td>\n",
              "      <td>king</td>\n",
              "    </tr>\n",
              "    <tr>\n",
              "      <th>26</th>\n",
              "      <td>young</td>\n",
              "      <td>prince</td>\n",
              "    </tr>\n",
              "    <tr>\n",
              "      <th>27</th>\n",
              "      <td>young</td>\n",
              "      <td>king</td>\n",
              "    </tr>\n",
              "    <tr>\n",
              "      <th>28</th>\n",
              "      <td>king</td>\n",
              "      <td>prince</td>\n",
              "    </tr>\n",
              "    <tr>\n",
              "      <th>29</th>\n",
              "      <td>king</td>\n",
              "      <td>young</td>\n",
              "    </tr>\n",
              "    <tr>\n",
              "      <th>30</th>\n",
              "      <td>princess</td>\n",
              "      <td>young</td>\n",
              "    </tr>\n",
              "    <tr>\n",
              "      <th>31</th>\n",
              "      <td>princess</td>\n",
              "      <td>queen</td>\n",
              "    </tr>\n",
              "    <tr>\n",
              "      <th>32</th>\n",
              "      <td>young</td>\n",
              "      <td>princess</td>\n",
              "    </tr>\n",
              "    <tr>\n",
              "      <th>33</th>\n",
              "      <td>young</td>\n",
              "      <td>queen</td>\n",
              "    </tr>\n",
              "    <tr>\n",
              "      <th>34</th>\n",
              "      <td>queen</td>\n",
              "      <td>princess</td>\n",
              "    </tr>\n",
              "    <tr>\n",
              "      <th>35</th>\n",
              "      <td>queen</td>\n",
              "      <td>young</td>\n",
              "    </tr>\n",
              "    <tr>\n",
              "      <th>36</th>\n",
              "      <td>man</td>\n",
              "      <td>strong</td>\n",
              "    </tr>\n",
              "    <tr>\n",
              "      <th>37</th>\n",
              "      <td>strong</td>\n",
              "      <td>man</td>\n",
              "    </tr>\n",
              "    <tr>\n",
              "      <th>38</th>\n",
              "      <td>woman</td>\n",
              "      <td>pretty</td>\n",
              "    </tr>\n",
              "    <tr>\n",
              "      <th>39</th>\n",
              "      <td>pretty</td>\n",
              "      <td>woman</td>\n",
              "    </tr>\n",
              "    <tr>\n",
              "      <th>40</th>\n",
              "      <td>prince</td>\n",
              "      <td>boy</td>\n",
              "    </tr>\n",
              "    <tr>\n",
              "      <th>41</th>\n",
              "      <td>prince</td>\n",
              "      <td>king</td>\n",
              "    </tr>\n",
              "    <tr>\n",
              "      <th>42</th>\n",
              "      <td>boy</td>\n",
              "      <td>prince</td>\n",
              "    </tr>\n",
              "    <tr>\n",
              "      <th>43</th>\n",
              "      <td>boy</td>\n",
              "      <td>king</td>\n",
              "    </tr>\n",
              "    <tr>\n",
              "      <th>44</th>\n",
              "      <td>king</td>\n",
              "      <td>prince</td>\n",
              "    </tr>\n",
              "    <tr>\n",
              "      <th>45</th>\n",
              "      <td>king</td>\n",
              "      <td>boy</td>\n",
              "    </tr>\n",
              "    <tr>\n",
              "      <th>46</th>\n",
              "      <td>princess</td>\n",
              "      <td>girl</td>\n",
              "    </tr>\n",
              "    <tr>\n",
              "      <th>47</th>\n",
              "      <td>princess</td>\n",
              "      <td>queen</td>\n",
              "    </tr>\n",
              "    <tr>\n",
              "      <th>48</th>\n",
              "      <td>girl</td>\n",
              "      <td>princess</td>\n",
              "    </tr>\n",
              "    <tr>\n",
              "      <th>49</th>\n",
              "      <td>girl</td>\n",
              "      <td>queen</td>\n",
              "    </tr>\n",
              "    <tr>\n",
              "      <th>50</th>\n",
              "      <td>queen</td>\n",
              "      <td>princess</td>\n",
              "    </tr>\n",
              "    <tr>\n",
              "      <th>51</th>\n",
              "      <td>queen</td>\n",
              "      <td>girl</td>\n",
              "    </tr>\n",
              "  </tbody>\n",
              "</table>\n",
              "</div>"
            ],
            "text/plain": [
              "       input     label\n",
              "0       king    strong\n",
              "1       king       man\n",
              "2     strong      king\n",
              "3     strong       man\n",
              "4        man      king\n",
              "5        man    strong\n",
              "6      queen      wise\n",
              "7      queen     woman\n",
              "8       wise     queen\n",
              "9       wise     woman\n",
              "10     woman     queen\n",
              "11     woman      wise\n",
              "12       boy     young\n",
              "13       boy       man\n",
              "14     young       boy\n",
              "15     young       man\n",
              "16       man       boy\n",
              "17       man     young\n",
              "18      girl     young\n",
              "19      girl     woman\n",
              "20     young      girl\n",
              "21     young     woman\n",
              "22     woman      girl\n",
              "23     woman     young\n",
              "24    prince     young\n",
              "25    prince      king\n",
              "26     young    prince\n",
              "27     young      king\n",
              "28      king    prince\n",
              "29      king     young\n",
              "30  princess     young\n",
              "31  princess     queen\n",
              "32     young  princess\n",
              "33     young     queen\n",
              "34     queen  princess\n",
              "35     queen     young\n",
              "36       man    strong\n",
              "37    strong       man\n",
              "38     woman    pretty\n",
              "39    pretty     woman\n",
              "40    prince       boy\n",
              "41    prince      king\n",
              "42       boy    prince\n",
              "43       boy      king\n",
              "44      king    prince\n",
              "45      king       boy\n",
              "46  princess      girl\n",
              "47  princess     queen\n",
              "48      girl  princess\n",
              "49      girl     queen\n",
              "50     queen  princess\n",
              "51     queen      girl"
            ]
          },
          "metadata": {},
          "execution_count": 17
        }
      ]
    },
    {
      "cell_type": "code",
      "metadata": {
        "colab": {
          "base_uri": "https://localhost:8080/",
          "height": 359
        },
        "id": "7fZty9xU67W4",
        "outputId": "755a3f71-6d40-476e-bccf-156442c662ec"
      },
      "source": [
        "df.head(10)"
      ],
      "execution_count": 18,
      "outputs": [
        {
          "output_type": "execute_result",
          "data": {
            "text/html": [
              "<div>\n",
              "<style scoped>\n",
              "    .dataframe tbody tr th:only-of-type {\n",
              "        vertical-align: middle;\n",
              "    }\n",
              "\n",
              "    .dataframe tbody tr th {\n",
              "        vertical-align: top;\n",
              "    }\n",
              "\n",
              "    .dataframe thead th {\n",
              "        text-align: right;\n",
              "    }\n",
              "</style>\n",
              "<table border=\"1\" class=\"dataframe\">\n",
              "  <thead>\n",
              "    <tr style=\"text-align: right;\">\n",
              "      <th></th>\n",
              "      <th>input</th>\n",
              "      <th>label</th>\n",
              "    </tr>\n",
              "  </thead>\n",
              "  <tbody>\n",
              "    <tr>\n",
              "      <th>0</th>\n",
              "      <td>king</td>\n",
              "      <td>strong</td>\n",
              "    </tr>\n",
              "    <tr>\n",
              "      <th>1</th>\n",
              "      <td>king</td>\n",
              "      <td>man</td>\n",
              "    </tr>\n",
              "    <tr>\n",
              "      <th>2</th>\n",
              "      <td>strong</td>\n",
              "      <td>king</td>\n",
              "    </tr>\n",
              "    <tr>\n",
              "      <th>3</th>\n",
              "      <td>strong</td>\n",
              "      <td>man</td>\n",
              "    </tr>\n",
              "    <tr>\n",
              "      <th>4</th>\n",
              "      <td>man</td>\n",
              "      <td>king</td>\n",
              "    </tr>\n",
              "    <tr>\n",
              "      <th>5</th>\n",
              "      <td>man</td>\n",
              "      <td>strong</td>\n",
              "    </tr>\n",
              "    <tr>\n",
              "      <th>6</th>\n",
              "      <td>queen</td>\n",
              "      <td>wise</td>\n",
              "    </tr>\n",
              "    <tr>\n",
              "      <th>7</th>\n",
              "      <td>queen</td>\n",
              "      <td>woman</td>\n",
              "    </tr>\n",
              "    <tr>\n",
              "      <th>8</th>\n",
              "      <td>wise</td>\n",
              "      <td>queen</td>\n",
              "    </tr>\n",
              "    <tr>\n",
              "      <th>9</th>\n",
              "      <td>wise</td>\n",
              "      <td>woman</td>\n",
              "    </tr>\n",
              "  </tbody>\n",
              "</table>\n",
              "</div>"
            ],
            "text/plain": [
              "    input   label\n",
              "0    king  strong\n",
              "1    king     man\n",
              "2  strong    king\n",
              "3  strong     man\n",
              "4     man    king\n",
              "5     man  strong\n",
              "6   queen    wise\n",
              "7   queen   woman\n",
              "8    wise   queen\n",
              "9    wise   woman"
            ]
          },
          "metadata": {},
          "execution_count": 18
        }
      ]
    },
    {
      "cell_type": "code",
      "metadata": {
        "colab": {
          "base_uri": "https://localhost:8080/"
        },
        "id": "3RFBIah16_-A",
        "outputId": "5cfca4ed-ed0b-4ae2-e340-d09762f4f935"
      },
      "source": [
        "df.shape"
      ],
      "execution_count": 19,
      "outputs": [
        {
          "output_type": "execute_result",
          "data": {
            "text/plain": [
              "(52, 2)"
            ]
          },
          "metadata": {},
          "execution_count": 19
        }
      ]
    },
    {
      "cell_type": "code",
      "metadata": {
        "colab": {
          "base_uri": "https://localhost:8080/",
          "height": 1000
        },
        "id": "GBbzBzR81Oql",
        "outputId": "dc8f4fd8-64a5-4d5e-8aaa-5337ee3f7d13"
      },
      "source": [
        "xtry = pd.DataFrame(df , columns = ['input'])\n",
        "xtry"
      ],
      "execution_count": 20,
      "outputs": [
        {
          "output_type": "execute_result",
          "data": {
            "text/html": [
              "<div>\n",
              "<style scoped>\n",
              "    .dataframe tbody tr th:only-of-type {\n",
              "        vertical-align: middle;\n",
              "    }\n",
              "\n",
              "    .dataframe tbody tr th {\n",
              "        vertical-align: top;\n",
              "    }\n",
              "\n",
              "    .dataframe thead th {\n",
              "        text-align: right;\n",
              "    }\n",
              "</style>\n",
              "<table border=\"1\" class=\"dataframe\">\n",
              "  <thead>\n",
              "    <tr style=\"text-align: right;\">\n",
              "      <th></th>\n",
              "      <th>input</th>\n",
              "    </tr>\n",
              "  </thead>\n",
              "  <tbody>\n",
              "    <tr>\n",
              "      <th>0</th>\n",
              "      <td>king</td>\n",
              "    </tr>\n",
              "    <tr>\n",
              "      <th>1</th>\n",
              "      <td>king</td>\n",
              "    </tr>\n",
              "    <tr>\n",
              "      <th>2</th>\n",
              "      <td>strong</td>\n",
              "    </tr>\n",
              "    <tr>\n",
              "      <th>3</th>\n",
              "      <td>strong</td>\n",
              "    </tr>\n",
              "    <tr>\n",
              "      <th>4</th>\n",
              "      <td>man</td>\n",
              "    </tr>\n",
              "    <tr>\n",
              "      <th>5</th>\n",
              "      <td>man</td>\n",
              "    </tr>\n",
              "    <tr>\n",
              "      <th>6</th>\n",
              "      <td>queen</td>\n",
              "    </tr>\n",
              "    <tr>\n",
              "      <th>7</th>\n",
              "      <td>queen</td>\n",
              "    </tr>\n",
              "    <tr>\n",
              "      <th>8</th>\n",
              "      <td>wise</td>\n",
              "    </tr>\n",
              "    <tr>\n",
              "      <th>9</th>\n",
              "      <td>wise</td>\n",
              "    </tr>\n",
              "    <tr>\n",
              "      <th>10</th>\n",
              "      <td>woman</td>\n",
              "    </tr>\n",
              "    <tr>\n",
              "      <th>11</th>\n",
              "      <td>woman</td>\n",
              "    </tr>\n",
              "    <tr>\n",
              "      <th>12</th>\n",
              "      <td>boy</td>\n",
              "    </tr>\n",
              "    <tr>\n",
              "      <th>13</th>\n",
              "      <td>boy</td>\n",
              "    </tr>\n",
              "    <tr>\n",
              "      <th>14</th>\n",
              "      <td>young</td>\n",
              "    </tr>\n",
              "    <tr>\n",
              "      <th>15</th>\n",
              "      <td>young</td>\n",
              "    </tr>\n",
              "    <tr>\n",
              "      <th>16</th>\n",
              "      <td>man</td>\n",
              "    </tr>\n",
              "    <tr>\n",
              "      <th>17</th>\n",
              "      <td>man</td>\n",
              "    </tr>\n",
              "    <tr>\n",
              "      <th>18</th>\n",
              "      <td>girl</td>\n",
              "    </tr>\n",
              "    <tr>\n",
              "      <th>19</th>\n",
              "      <td>girl</td>\n",
              "    </tr>\n",
              "    <tr>\n",
              "      <th>20</th>\n",
              "      <td>young</td>\n",
              "    </tr>\n",
              "    <tr>\n",
              "      <th>21</th>\n",
              "      <td>young</td>\n",
              "    </tr>\n",
              "    <tr>\n",
              "      <th>22</th>\n",
              "      <td>woman</td>\n",
              "    </tr>\n",
              "    <tr>\n",
              "      <th>23</th>\n",
              "      <td>woman</td>\n",
              "    </tr>\n",
              "    <tr>\n",
              "      <th>24</th>\n",
              "      <td>prince</td>\n",
              "    </tr>\n",
              "    <tr>\n",
              "      <th>25</th>\n",
              "      <td>prince</td>\n",
              "    </tr>\n",
              "    <tr>\n",
              "      <th>26</th>\n",
              "      <td>young</td>\n",
              "    </tr>\n",
              "    <tr>\n",
              "      <th>27</th>\n",
              "      <td>young</td>\n",
              "    </tr>\n",
              "    <tr>\n",
              "      <th>28</th>\n",
              "      <td>king</td>\n",
              "    </tr>\n",
              "    <tr>\n",
              "      <th>29</th>\n",
              "      <td>king</td>\n",
              "    </tr>\n",
              "    <tr>\n",
              "      <th>30</th>\n",
              "      <td>princess</td>\n",
              "    </tr>\n",
              "    <tr>\n",
              "      <th>31</th>\n",
              "      <td>princess</td>\n",
              "    </tr>\n",
              "    <tr>\n",
              "      <th>32</th>\n",
              "      <td>young</td>\n",
              "    </tr>\n",
              "    <tr>\n",
              "      <th>33</th>\n",
              "      <td>young</td>\n",
              "    </tr>\n",
              "    <tr>\n",
              "      <th>34</th>\n",
              "      <td>queen</td>\n",
              "    </tr>\n",
              "    <tr>\n",
              "      <th>35</th>\n",
              "      <td>queen</td>\n",
              "    </tr>\n",
              "    <tr>\n",
              "      <th>36</th>\n",
              "      <td>man</td>\n",
              "    </tr>\n",
              "    <tr>\n",
              "      <th>37</th>\n",
              "      <td>strong</td>\n",
              "    </tr>\n",
              "    <tr>\n",
              "      <th>38</th>\n",
              "      <td>woman</td>\n",
              "    </tr>\n",
              "    <tr>\n",
              "      <th>39</th>\n",
              "      <td>pretty</td>\n",
              "    </tr>\n",
              "    <tr>\n",
              "      <th>40</th>\n",
              "      <td>prince</td>\n",
              "    </tr>\n",
              "    <tr>\n",
              "      <th>41</th>\n",
              "      <td>prince</td>\n",
              "    </tr>\n",
              "    <tr>\n",
              "      <th>42</th>\n",
              "      <td>boy</td>\n",
              "    </tr>\n",
              "    <tr>\n",
              "      <th>43</th>\n",
              "      <td>boy</td>\n",
              "    </tr>\n",
              "    <tr>\n",
              "      <th>44</th>\n",
              "      <td>king</td>\n",
              "    </tr>\n",
              "    <tr>\n",
              "      <th>45</th>\n",
              "      <td>king</td>\n",
              "    </tr>\n",
              "    <tr>\n",
              "      <th>46</th>\n",
              "      <td>princess</td>\n",
              "    </tr>\n",
              "    <tr>\n",
              "      <th>47</th>\n",
              "      <td>princess</td>\n",
              "    </tr>\n",
              "    <tr>\n",
              "      <th>48</th>\n",
              "      <td>girl</td>\n",
              "    </tr>\n",
              "    <tr>\n",
              "      <th>49</th>\n",
              "      <td>girl</td>\n",
              "    </tr>\n",
              "    <tr>\n",
              "      <th>50</th>\n",
              "      <td>queen</td>\n",
              "    </tr>\n",
              "    <tr>\n",
              "      <th>51</th>\n",
              "      <td>queen</td>\n",
              "    </tr>\n",
              "  </tbody>\n",
              "</table>\n",
              "</div>"
            ],
            "text/plain": [
              "       input\n",
              "0       king\n",
              "1       king\n",
              "2     strong\n",
              "3     strong\n",
              "4        man\n",
              "5        man\n",
              "6      queen\n",
              "7      queen\n",
              "8       wise\n",
              "9       wise\n",
              "10     woman\n",
              "11     woman\n",
              "12       boy\n",
              "13       boy\n",
              "14     young\n",
              "15     young\n",
              "16       man\n",
              "17       man\n",
              "18      girl\n",
              "19      girl\n",
              "20     young\n",
              "21     young\n",
              "22     woman\n",
              "23     woman\n",
              "24    prince\n",
              "25    prince\n",
              "26     young\n",
              "27     young\n",
              "28      king\n",
              "29      king\n",
              "30  princess\n",
              "31  princess\n",
              "32     young\n",
              "33     young\n",
              "34     queen\n",
              "35     queen\n",
              "36       man\n",
              "37    strong\n",
              "38     woman\n",
              "39    pretty\n",
              "40    prince\n",
              "41    prince\n",
              "42       boy\n",
              "43       boy\n",
              "44      king\n",
              "45      king\n",
              "46  princess\n",
              "47  princess\n",
              "48      girl\n",
              "49      girl\n",
              "50     queen\n",
              "51     queen"
            ]
          },
          "metadata": {},
          "execution_count": 20
        }
      ]
    },
    {
      "cell_type": "code",
      "metadata": {
        "colab": {
          "base_uri": "https://localhost:8080/",
          "height": 1000
        },
        "id": "g9miR9202To9",
        "outputId": "a4b03fcf-1d19-45be-fa24-512d34951b97"
      },
      "source": [
        "ytry = pd.DataFrame(df , columns = ['label'])\n",
        "ytry"
      ],
      "execution_count": 21,
      "outputs": [
        {
          "output_type": "execute_result",
          "data": {
            "text/html": [
              "<div>\n",
              "<style scoped>\n",
              "    .dataframe tbody tr th:only-of-type {\n",
              "        vertical-align: middle;\n",
              "    }\n",
              "\n",
              "    .dataframe tbody tr th {\n",
              "        vertical-align: top;\n",
              "    }\n",
              "\n",
              "    .dataframe thead th {\n",
              "        text-align: right;\n",
              "    }\n",
              "</style>\n",
              "<table border=\"1\" class=\"dataframe\">\n",
              "  <thead>\n",
              "    <tr style=\"text-align: right;\">\n",
              "      <th></th>\n",
              "      <th>label</th>\n",
              "    </tr>\n",
              "  </thead>\n",
              "  <tbody>\n",
              "    <tr>\n",
              "      <th>0</th>\n",
              "      <td>strong</td>\n",
              "    </tr>\n",
              "    <tr>\n",
              "      <th>1</th>\n",
              "      <td>man</td>\n",
              "    </tr>\n",
              "    <tr>\n",
              "      <th>2</th>\n",
              "      <td>king</td>\n",
              "    </tr>\n",
              "    <tr>\n",
              "      <th>3</th>\n",
              "      <td>man</td>\n",
              "    </tr>\n",
              "    <tr>\n",
              "      <th>4</th>\n",
              "      <td>king</td>\n",
              "    </tr>\n",
              "    <tr>\n",
              "      <th>5</th>\n",
              "      <td>strong</td>\n",
              "    </tr>\n",
              "    <tr>\n",
              "      <th>6</th>\n",
              "      <td>wise</td>\n",
              "    </tr>\n",
              "    <tr>\n",
              "      <th>7</th>\n",
              "      <td>woman</td>\n",
              "    </tr>\n",
              "    <tr>\n",
              "      <th>8</th>\n",
              "      <td>queen</td>\n",
              "    </tr>\n",
              "    <tr>\n",
              "      <th>9</th>\n",
              "      <td>woman</td>\n",
              "    </tr>\n",
              "    <tr>\n",
              "      <th>10</th>\n",
              "      <td>queen</td>\n",
              "    </tr>\n",
              "    <tr>\n",
              "      <th>11</th>\n",
              "      <td>wise</td>\n",
              "    </tr>\n",
              "    <tr>\n",
              "      <th>12</th>\n",
              "      <td>young</td>\n",
              "    </tr>\n",
              "    <tr>\n",
              "      <th>13</th>\n",
              "      <td>man</td>\n",
              "    </tr>\n",
              "    <tr>\n",
              "      <th>14</th>\n",
              "      <td>boy</td>\n",
              "    </tr>\n",
              "    <tr>\n",
              "      <th>15</th>\n",
              "      <td>man</td>\n",
              "    </tr>\n",
              "    <tr>\n",
              "      <th>16</th>\n",
              "      <td>boy</td>\n",
              "    </tr>\n",
              "    <tr>\n",
              "      <th>17</th>\n",
              "      <td>young</td>\n",
              "    </tr>\n",
              "    <tr>\n",
              "      <th>18</th>\n",
              "      <td>young</td>\n",
              "    </tr>\n",
              "    <tr>\n",
              "      <th>19</th>\n",
              "      <td>woman</td>\n",
              "    </tr>\n",
              "    <tr>\n",
              "      <th>20</th>\n",
              "      <td>girl</td>\n",
              "    </tr>\n",
              "    <tr>\n",
              "      <th>21</th>\n",
              "      <td>woman</td>\n",
              "    </tr>\n",
              "    <tr>\n",
              "      <th>22</th>\n",
              "      <td>girl</td>\n",
              "    </tr>\n",
              "    <tr>\n",
              "      <th>23</th>\n",
              "      <td>young</td>\n",
              "    </tr>\n",
              "    <tr>\n",
              "      <th>24</th>\n",
              "      <td>young</td>\n",
              "    </tr>\n",
              "    <tr>\n",
              "      <th>25</th>\n",
              "      <td>king</td>\n",
              "    </tr>\n",
              "    <tr>\n",
              "      <th>26</th>\n",
              "      <td>prince</td>\n",
              "    </tr>\n",
              "    <tr>\n",
              "      <th>27</th>\n",
              "      <td>king</td>\n",
              "    </tr>\n",
              "    <tr>\n",
              "      <th>28</th>\n",
              "      <td>prince</td>\n",
              "    </tr>\n",
              "    <tr>\n",
              "      <th>29</th>\n",
              "      <td>young</td>\n",
              "    </tr>\n",
              "    <tr>\n",
              "      <th>30</th>\n",
              "      <td>young</td>\n",
              "    </tr>\n",
              "    <tr>\n",
              "      <th>31</th>\n",
              "      <td>queen</td>\n",
              "    </tr>\n",
              "    <tr>\n",
              "      <th>32</th>\n",
              "      <td>princess</td>\n",
              "    </tr>\n",
              "    <tr>\n",
              "      <th>33</th>\n",
              "      <td>queen</td>\n",
              "    </tr>\n",
              "    <tr>\n",
              "      <th>34</th>\n",
              "      <td>princess</td>\n",
              "    </tr>\n",
              "    <tr>\n",
              "      <th>35</th>\n",
              "      <td>young</td>\n",
              "    </tr>\n",
              "    <tr>\n",
              "      <th>36</th>\n",
              "      <td>strong</td>\n",
              "    </tr>\n",
              "    <tr>\n",
              "      <th>37</th>\n",
              "      <td>man</td>\n",
              "    </tr>\n",
              "    <tr>\n",
              "      <th>38</th>\n",
              "      <td>pretty</td>\n",
              "    </tr>\n",
              "    <tr>\n",
              "      <th>39</th>\n",
              "      <td>woman</td>\n",
              "    </tr>\n",
              "    <tr>\n",
              "      <th>40</th>\n",
              "      <td>boy</td>\n",
              "    </tr>\n",
              "    <tr>\n",
              "      <th>41</th>\n",
              "      <td>king</td>\n",
              "    </tr>\n",
              "    <tr>\n",
              "      <th>42</th>\n",
              "      <td>prince</td>\n",
              "    </tr>\n",
              "    <tr>\n",
              "      <th>43</th>\n",
              "      <td>king</td>\n",
              "    </tr>\n",
              "    <tr>\n",
              "      <th>44</th>\n",
              "      <td>prince</td>\n",
              "    </tr>\n",
              "    <tr>\n",
              "      <th>45</th>\n",
              "      <td>boy</td>\n",
              "    </tr>\n",
              "    <tr>\n",
              "      <th>46</th>\n",
              "      <td>girl</td>\n",
              "    </tr>\n",
              "    <tr>\n",
              "      <th>47</th>\n",
              "      <td>queen</td>\n",
              "    </tr>\n",
              "    <tr>\n",
              "      <th>48</th>\n",
              "      <td>princess</td>\n",
              "    </tr>\n",
              "    <tr>\n",
              "      <th>49</th>\n",
              "      <td>queen</td>\n",
              "    </tr>\n",
              "    <tr>\n",
              "      <th>50</th>\n",
              "      <td>princess</td>\n",
              "    </tr>\n",
              "    <tr>\n",
              "      <th>51</th>\n",
              "      <td>girl</td>\n",
              "    </tr>\n",
              "  </tbody>\n",
              "</table>\n",
              "</div>"
            ],
            "text/plain": [
              "       label\n",
              "0     strong\n",
              "1        man\n",
              "2       king\n",
              "3        man\n",
              "4       king\n",
              "5     strong\n",
              "6       wise\n",
              "7      woman\n",
              "8      queen\n",
              "9      woman\n",
              "10     queen\n",
              "11      wise\n",
              "12     young\n",
              "13       man\n",
              "14       boy\n",
              "15       man\n",
              "16       boy\n",
              "17     young\n",
              "18     young\n",
              "19     woman\n",
              "20      girl\n",
              "21     woman\n",
              "22      girl\n",
              "23     young\n",
              "24     young\n",
              "25      king\n",
              "26    prince\n",
              "27      king\n",
              "28    prince\n",
              "29     young\n",
              "30     young\n",
              "31     queen\n",
              "32  princess\n",
              "33     queen\n",
              "34  princess\n",
              "35     young\n",
              "36    strong\n",
              "37       man\n",
              "38    pretty\n",
              "39     woman\n",
              "40       boy\n",
              "41      king\n",
              "42    prince\n",
              "43      king\n",
              "44    prince\n",
              "45       boy\n",
              "46      girl\n",
              "47     queen\n",
              "48  princess\n",
              "49     queen\n",
              "50  princess\n",
              "51      girl"
            ]
          },
          "metadata": {},
          "execution_count": 21
        }
      ]
    },
    {
      "cell_type": "code",
      "metadata": {
        "colab": {
          "base_uri": "https://localhost:8080/"
        },
        "id": "JAlK9H4xr1cK",
        "outputId": "3d2a7d6b-1e22-441b-e721-dd828b056d7f"
      },
      "source": [
        "x = df['input'].tolist()\n",
        "x"
      ],
      "execution_count": 22,
      "outputs": [
        {
          "output_type": "execute_result",
          "data": {
            "text/plain": [
              "['king',\n",
              " 'king',\n",
              " 'strong',\n",
              " 'strong',\n",
              " 'man',\n",
              " 'man',\n",
              " 'queen',\n",
              " 'queen',\n",
              " 'wise',\n",
              " 'wise',\n",
              " 'woman',\n",
              " 'woman',\n",
              " 'boy',\n",
              " 'boy',\n",
              " 'young',\n",
              " 'young',\n",
              " 'man',\n",
              " 'man',\n",
              " 'girl',\n",
              " 'girl',\n",
              " 'young',\n",
              " 'young',\n",
              " 'woman',\n",
              " 'woman',\n",
              " 'prince',\n",
              " 'prince',\n",
              " 'young',\n",
              " 'young',\n",
              " 'king',\n",
              " 'king',\n",
              " 'princess',\n",
              " 'princess',\n",
              " 'young',\n",
              " 'young',\n",
              " 'queen',\n",
              " 'queen',\n",
              " 'man',\n",
              " 'strong',\n",
              " 'woman',\n",
              " 'pretty',\n",
              " 'prince',\n",
              " 'prince',\n",
              " 'boy',\n",
              " 'boy',\n",
              " 'king',\n",
              " 'king',\n",
              " 'princess',\n",
              " 'princess',\n",
              " 'girl',\n",
              " 'girl',\n",
              " 'queen',\n",
              " 'queen']"
            ]
          },
          "metadata": {},
          "execution_count": 22
        }
      ]
    },
    {
      "cell_type": "code",
      "metadata": {
        "colab": {
          "base_uri": "https://localhost:8080/"
        },
        "id": "l2tnO_5ctcO2",
        "outputId": "f2673c60-c232-4ecd-da74-85a855e16254"
      },
      "source": [
        "y = df['label'].tolist()\n",
        "y"
      ],
      "execution_count": 23,
      "outputs": [
        {
          "output_type": "execute_result",
          "data": {
            "text/plain": [
              "['strong',\n",
              " 'man',\n",
              " 'king',\n",
              " 'man',\n",
              " 'king',\n",
              " 'strong',\n",
              " 'wise',\n",
              " 'woman',\n",
              " 'queen',\n",
              " 'woman',\n",
              " 'queen',\n",
              " 'wise',\n",
              " 'young',\n",
              " 'man',\n",
              " 'boy',\n",
              " 'man',\n",
              " 'boy',\n",
              " 'young',\n",
              " 'young',\n",
              " 'woman',\n",
              " 'girl',\n",
              " 'woman',\n",
              " 'girl',\n",
              " 'young',\n",
              " 'young',\n",
              " 'king',\n",
              " 'prince',\n",
              " 'king',\n",
              " 'prince',\n",
              " 'young',\n",
              " 'young',\n",
              " 'queen',\n",
              " 'princess',\n",
              " 'queen',\n",
              " 'princess',\n",
              " 'young',\n",
              " 'strong',\n",
              " 'man',\n",
              " 'pretty',\n",
              " 'woman',\n",
              " 'boy',\n",
              " 'king',\n",
              " 'prince',\n",
              " 'king',\n",
              " 'prince',\n",
              " 'boy',\n",
              " 'girl',\n",
              " 'queen',\n",
              " 'princess',\n",
              " 'queen',\n",
              " 'princess',\n",
              " 'girl']"
            ]
          },
          "metadata": {},
          "execution_count": 23
        }
      ]
    },
    {
      "cell_type": "code",
      "metadata": {
        "colab": {
          "base_uri": "https://localhost:8080/"
        },
        "id": "7koFSzLxsZT5",
        "outputId": "d3c8e0f3-b0f4-4c8d-f6d3-a1ac197b5662"
      },
      "source": [
        "type(x)"
      ],
      "execution_count": 24,
      "outputs": [
        {
          "output_type": "execute_result",
          "data": {
            "text/plain": [
              "list"
            ]
          },
          "metadata": {},
          "execution_count": 24
        }
      ]
    },
    {
      "cell_type": "code",
      "metadata": {
        "colab": {
          "base_uri": "https://localhost:8080/"
        },
        "id": "vMCdV4o6tt_s",
        "outputId": "298899ab-bd56-4025-9c6e-e7fe64930a8f"
      },
      "source": [
        "type(y)"
      ],
      "execution_count": 25,
      "outputs": [
        {
          "output_type": "execute_result",
          "data": {
            "text/plain": [
              "list"
            ]
          },
          "metadata": {},
          "execution_count": 25
        }
      ]
    },
    {
      "cell_type": "code",
      "metadata": {
        "colab": {
          "base_uri": "https://localhost:8080/"
        },
        "id": "uGQYfO-sXEWJ",
        "outputId": "f5175a39-8c62-4309-e6a4-1c223698495e"
      },
      "source": [
        "len(words)"
      ],
      "execution_count": 26,
      "outputs": [
        {
          "output_type": "execute_result",
          "data": {
            "text/plain": [
              "12"
            ]
          },
          "metadata": {},
          "execution_count": 26
        }
      ]
    },
    {
      "cell_type": "code",
      "metadata": {
        "colab": {
          "base_uri": "https://localhost:8080/"
        },
        "id": "s30JlOUuso3Y",
        "outputId": "e435c591-844a-491d-f463-e2de08608140"
      },
      "source": [
        "vocab_size = len(words)\n",
        "encoded_x = [one_hot(d,vocab_size) for d in x]\n",
        "print(encoded_x)"
      ],
      "execution_count": 27,
      "outputs": [
        {
          "output_type": "stream",
          "name": "stdout",
          "text": [
            "[[4], [4], [7], [7], [5], [5], [6], [6], [8], [8], [11], [11], [7], [7], [1], [1], [5], [5], [10], [10], [1], [1], [11], [11], [8], [8], [1], [1], [4], [4], [8], [8], [1], [1], [6], [6], [5], [7], [11], [7], [8], [8], [7], [7], [4], [4], [8], [8], [10], [10], [6], [6]]\n"
          ]
        }
      ]
    },
    {
      "cell_type": "code",
      "metadata": {
        "colab": {
          "base_uri": "https://localhost:8080/"
        },
        "id": "WE4LjI5wt0YP",
        "outputId": "dd570f15-ea41-433e-b231-d637a41ce27f"
      },
      "source": [
        "vocab_size = len(words)\n",
        "encoded_y = [one_hot(d,vocab_size) for d in y]\n",
        "print(encoded_y)"
      ],
      "execution_count": 28,
      "outputs": [
        {
          "output_type": "stream",
          "name": "stdout",
          "text": [
            "[[7], [5], [4], [5], [4], [7], [8], [11], [6], [11], [6], [8], [1], [5], [7], [5], [7], [1], [1], [11], [10], [11], [10], [1], [1], [4], [8], [4], [8], [1], [1], [6], [8], [6], [8], [1], [7], [5], [7], [11], [7], [4], [8], [4], [8], [7], [10], [6], [8], [6], [8], [10]]\n"
          ]
        }
      ]
    },
    {
      "cell_type": "code",
      "metadata": {
        "colab": {
          "base_uri": "https://localhost:8080/"
        },
        "id": "KWc6exvctVBD",
        "outputId": "aebce8cc-9b74-4f70-c3f1-f533cb7fb8c5"
      },
      "source": [
        "np.shape(encoded_x)"
      ],
      "execution_count": 29,
      "outputs": [
        {
          "output_type": "execute_result",
          "data": {
            "text/plain": [
              "(52, 1)"
            ]
          },
          "metadata": {},
          "execution_count": 29
        }
      ]
    },
    {
      "cell_type": "code",
      "metadata": {
        "colab": {
          "base_uri": "https://localhost:8080/"
        },
        "id": "lna7H7Cvt7zx",
        "outputId": "afaf9aaf-ac40-4649-c7ec-b4db0933e301"
      },
      "source": [
        "np.shape(encoded_y)"
      ],
      "execution_count": 30,
      "outputs": [
        {
          "output_type": "execute_result",
          "data": {
            "text/plain": [
              "(52, 1)"
            ]
          },
          "metadata": {},
          "execution_count": 30
        }
      ]
    },
    {
      "cell_type": "code",
      "metadata": {
        "colab": {
          "base_uri": "https://localhost:8080/"
        },
        "id": "Y3LDFNUQH0Nm",
        "outputId": "0c20c5a7-4a32-44fb-a7d4-f57ae9af223c"
      },
      "source": [
        "r_encoded_x = np.reshape(encoded_x,(1,52))\n",
        "r_encoded_x.shape"
      ],
      "execution_count": 31,
      "outputs": [
        {
          "output_type": "execute_result",
          "data": {
            "text/plain": [
              "(1, 52)"
            ]
          },
          "metadata": {},
          "execution_count": 31
        }
      ]
    },
    {
      "cell_type": "code",
      "metadata": {
        "colab": {
          "base_uri": "https://localhost:8080/"
        },
        "id": "qln-XXPg93Vh",
        "outputId": "6319c63d-c2a5-4e02-e804-0cff2305c4ec"
      },
      "source": [
        "r_encoded_y = np.reshape(encoded_y,(1,52))\n",
        "r_encoded_y.shape"
      ],
      "execution_count": 32,
      "outputs": [
        {
          "output_type": "execute_result",
          "data": {
            "text/plain": [
              "(1, 52)"
            ]
          },
          "metadata": {},
          "execution_count": 32
        }
      ]
    },
    {
      "cell_type": "code",
      "metadata": {
        "colab": {
          "base_uri": "https://localhost:8080/"
        },
        "id": "gEWrUVbL4FFS",
        "outputId": "8ac17547-9b91-4535-cb23-3b1901326f6f"
      },
      "source": [
        "lw=len(words)\n",
        "lw"
      ],
      "execution_count": 33,
      "outputs": [
        {
          "output_type": "execute_result",
          "data": {
            "text/plain": [
              "12"
            ]
          },
          "metadata": {},
          "execution_count": 33
        }
      ]
    },
    {
      "cell_type": "code",
      "metadata": {
        "id": "5YRMFPDq7gzb"
      },
      "source": [
        "embedded_vector_size = 5\n",
        "max_length = 1\n",
        "model = Sequential()\n",
        "model.add(Embedding(vocab_size, embedded_vector_size, input_length=max_length,name=\"Embedding\"))\n",
        "model.add(Flatten())\n",
        "model.add(Dense(vocab_size, activation='softmax'))"
      ],
      "execution_count": 34,
      "outputs": []
    },
    {
      "cell_type": "code",
      "metadata": {
        "id": "aatHVBRfvnl8"
      },
      "source": [
        "X = encoded_x\n",
        "Y = encoded_y"
      ],
      "execution_count": 35,
      "outputs": []
    },
    {
      "cell_type": "code",
      "metadata": {
        "id": "_JxFo9Igeb_f",
        "colab": {
          "base_uri": "https://localhost:8080/"
        },
        "outputId": "d32a75e4-800e-4b66-acc1-bff01bb137c7"
      },
      "source": [
        "model.compile(optimizer='adam', loss='sparse_categorical_crossentropy', metrics=['accuracy'])\n",
        "model.summary()"
      ],
      "execution_count": 36,
      "outputs": [
        {
          "output_type": "stream",
          "name": "stdout",
          "text": [
            "Model: \"sequential\"\n",
            "_________________________________________________________________\n",
            "Layer (type)                 Output Shape              Param #   \n",
            "=================================================================\n",
            "Embedding (Embedding)        (None, 1, 5)              60        \n",
            "_________________________________________________________________\n",
            "flatten (Flatten)            (None, 5)                 0         \n",
            "_________________________________________________________________\n",
            "dense (Dense)                (None, 12)                72        \n",
            "=================================================================\n",
            "Total params: 132\n",
            "Trainable params: 132\n",
            "Non-trainable params: 0\n",
            "_________________________________________________________________\n"
          ]
        }
      ]
    },
    {
      "cell_type": "code",
      "metadata": {
        "colab": {
          "base_uri": "https://localhost:8080/"
        },
        "id": "9nzHY438F1th",
        "outputId": "989b590b-2110-4ad3-bd66-9a8f76a858bd"
      },
      "source": [
        "model.fit(X,Y,epochs=50, verbose=0)"
      ],
      "execution_count": 37,
      "outputs": [
        {
          "output_type": "execute_result",
          "data": {
            "text/plain": [
              "<keras.callbacks.History at 0x7f9cb1f15950>"
            ]
          },
          "metadata": {},
          "execution_count": 37
        }
      ]
    },
    {
      "cell_type": "code",
      "metadata": {
        "colab": {
          "base_uri": "https://localhost:8080/"
        },
        "id": "C1SCR-WOyNYK",
        "outputId": "b3e81b85-8ffe-4b56-e309-83e1128e13b6"
      },
      "source": [
        "loss, accuracy = model.evaluate(X, Y)"
      ],
      "execution_count": 38,
      "outputs": [
        {
          "output_type": "stream",
          "name": "stdout",
          "text": [
            "2/2 [==============================] - 0s 6ms/step - loss: 2.3717 - accuracy: 0.3077\n"
          ]
        }
      ]
    },
    {
      "cell_type": "code",
      "metadata": {
        "id": "oAjkumJSxHzA",
        "colab": {
          "base_uri": "https://localhost:8080/"
        },
        "outputId": "707c038c-aa39-43aa-d80a-5954516fe9f2"
      },
      "source": [
        "weights = model.get_layer('Embedding').get_weights()[0]\n",
        "len(weights)"
      ],
      "execution_count": 39,
      "outputs": [
        {
          "output_type": "execute_result",
          "data": {
            "text/plain": [
              "12"
            ]
          },
          "metadata": {},
          "execution_count": 39
        }
      ]
    },
    {
      "cell_type": "code",
      "metadata": {
        "colab": {
          "base_uri": "https://localhost:8080/"
        },
        "id": "c0DcRU7CYqWi",
        "outputId": "c547df61-f7fa-45ae-e5d3-007fef48872d"
      },
      "source": [
        "weights"
      ],
      "execution_count": 40,
      "outputs": [
        {
          "output_type": "execute_result",
          "data": {
            "text/plain": [
              "array([[-0.01750047, -0.04719561, -0.01542861,  0.03380075,  0.04698041],\n",
              "       [-0.11114859, -0.09929133, -0.04537282, -0.01570363,  0.13034663],\n",
              "       [ 0.00108769,  0.03010315,  0.04131525, -0.0340057 , -0.02245967],\n",
              "       [ 0.02254975,  0.04080505, -0.03588042, -0.00269003, -0.03148564],\n",
              "       [-0.0374731 ,  0.00725547, -0.06967352, -0.03918024,  0.02667599],\n",
              "       [ 0.10435613,  0.07767507, -0.10442824, -0.06738915, -0.04829111],\n",
              "       [-0.06366372, -0.13690217, -0.07404188, -0.07021654,  0.02818376],\n",
              "       [-0.07337583, -0.04744013, -0.11526632,  0.04071072,  0.03264383],\n",
              "       [-0.03459729, -0.11922124,  0.12172908,  0.12170774,  0.01762516],\n",
              "       [-0.00561701,  0.04154751,  0.04964093, -0.04500834, -0.04865402],\n",
              "       [-0.03371046, -0.1326027 , -0.06823108,  0.05923909, -0.02304146],\n",
              "       [-0.05172624, -0.00250027,  0.03929513, -0.00333145,  0.10306852]],\n",
              "      dtype=float32)"
            ]
          },
          "metadata": {},
          "execution_count": 40
        }
      ]
    },
    {
      "cell_type": "code",
      "metadata": {
        "colab": {
          "base_uri": "https://localhost:8080/"
        },
        "id": "aB-a-OCJYtFh",
        "outputId": "13730441-b8c7-44fe-bda8-86165f31f9e5"
      },
      "source": [
        "weights[6]"
      ],
      "execution_count": 41,
      "outputs": [
        {
          "output_type": "execute_result",
          "data": {
            "text/plain": [
              "array([-0.06366372, -0.13690217, -0.07404188, -0.07021654,  0.02818376],\n",
              "      dtype=float32)"
            ]
          },
          "metadata": {},
          "execution_count": 41
        }
      ]
    },
    {
      "cell_type": "code",
      "metadata": {
        "colab": {
          "base_uri": "https://localhost:8080/",
          "height": 421
        },
        "id": "fTrUpBqUZ89b",
        "outputId": "1ff08ad7-5353-46aa-e6a6-ffccb6173626"
      },
      "source": [
        "w2v_df = pd.DataFrame(weights, columns = ['x1', 'x2','x3', 'x4','x5'])\n",
        "w2v_df['word'] = words\n",
        "w2v_df = w2v_df[['word', 'x1', 'x2','x3', 'x4','x5']]\n",
        "w2v_df"
      ],
      "execution_count": 42,
      "outputs": [
        {
          "output_type": "execute_result",
          "data": {
            "text/html": [
              "<div>\n",
              "<style scoped>\n",
              "    .dataframe tbody tr th:only-of-type {\n",
              "        vertical-align: middle;\n",
              "    }\n",
              "\n",
              "    .dataframe tbody tr th {\n",
              "        vertical-align: top;\n",
              "    }\n",
              "\n",
              "    .dataframe thead th {\n",
              "        text-align: right;\n",
              "    }\n",
              "</style>\n",
              "<table border=\"1\" class=\"dataframe\">\n",
              "  <thead>\n",
              "    <tr style=\"text-align: right;\">\n",
              "      <th></th>\n",
              "      <th>word</th>\n",
              "      <th>x1</th>\n",
              "      <th>x2</th>\n",
              "      <th>x3</th>\n",
              "      <th>x4</th>\n",
              "      <th>x5</th>\n",
              "    </tr>\n",
              "  </thead>\n",
              "  <tbody>\n",
              "    <tr>\n",
              "      <th>0</th>\n",
              "      <td>wise</td>\n",
              "      <td>-0.017500</td>\n",
              "      <td>-0.047196</td>\n",
              "      <td>-0.015429</td>\n",
              "      <td>0.033801</td>\n",
              "      <td>0.046980</td>\n",
              "    </tr>\n",
              "    <tr>\n",
              "      <th>1</th>\n",
              "      <td>king</td>\n",
              "      <td>-0.111149</td>\n",
              "      <td>-0.099291</td>\n",
              "      <td>-0.045373</td>\n",
              "      <td>-0.015704</td>\n",
              "      <td>0.130347</td>\n",
              "    </tr>\n",
              "    <tr>\n",
              "      <th>2</th>\n",
              "      <td>princess</td>\n",
              "      <td>0.001088</td>\n",
              "      <td>0.030103</td>\n",
              "      <td>0.041315</td>\n",
              "      <td>-0.034006</td>\n",
              "      <td>-0.022460</td>\n",
              "    </tr>\n",
              "    <tr>\n",
              "      <th>3</th>\n",
              "      <td>woman</td>\n",
              "      <td>0.022550</td>\n",
              "      <td>0.040805</td>\n",
              "      <td>-0.035880</td>\n",
              "      <td>-0.002690</td>\n",
              "      <td>-0.031486</td>\n",
              "    </tr>\n",
              "    <tr>\n",
              "      <th>4</th>\n",
              "      <td>man</td>\n",
              "      <td>-0.037473</td>\n",
              "      <td>0.007255</td>\n",
              "      <td>-0.069674</td>\n",
              "      <td>-0.039180</td>\n",
              "      <td>0.026676</td>\n",
              "    </tr>\n",
              "    <tr>\n",
              "      <th>5</th>\n",
              "      <td>young</td>\n",
              "      <td>0.104356</td>\n",
              "      <td>0.077675</td>\n",
              "      <td>-0.104428</td>\n",
              "      <td>-0.067389</td>\n",
              "      <td>-0.048291</td>\n",
              "    </tr>\n",
              "    <tr>\n",
              "      <th>6</th>\n",
              "      <td>girl</td>\n",
              "      <td>-0.063664</td>\n",
              "      <td>-0.136902</td>\n",
              "      <td>-0.074042</td>\n",
              "      <td>-0.070217</td>\n",
              "      <td>0.028184</td>\n",
              "    </tr>\n",
              "    <tr>\n",
              "      <th>7</th>\n",
              "      <td>boy</td>\n",
              "      <td>-0.073376</td>\n",
              "      <td>-0.047440</td>\n",
              "      <td>-0.115266</td>\n",
              "      <td>0.040711</td>\n",
              "      <td>0.032644</td>\n",
              "    </tr>\n",
              "    <tr>\n",
              "      <th>8</th>\n",
              "      <td>prince</td>\n",
              "      <td>-0.034597</td>\n",
              "      <td>-0.119221</td>\n",
              "      <td>0.121729</td>\n",
              "      <td>0.121708</td>\n",
              "      <td>0.017625</td>\n",
              "    </tr>\n",
              "    <tr>\n",
              "      <th>9</th>\n",
              "      <td>strong</td>\n",
              "      <td>-0.005617</td>\n",
              "      <td>0.041548</td>\n",
              "      <td>0.049641</td>\n",
              "      <td>-0.045008</td>\n",
              "      <td>-0.048654</td>\n",
              "    </tr>\n",
              "    <tr>\n",
              "      <th>10</th>\n",
              "      <td>queen</td>\n",
              "      <td>-0.033710</td>\n",
              "      <td>-0.132603</td>\n",
              "      <td>-0.068231</td>\n",
              "      <td>0.059239</td>\n",
              "      <td>-0.023041</td>\n",
              "    </tr>\n",
              "    <tr>\n",
              "      <th>11</th>\n",
              "      <td>pretty</td>\n",
              "      <td>-0.051726</td>\n",
              "      <td>-0.002500</td>\n",
              "      <td>0.039295</td>\n",
              "      <td>-0.003331</td>\n",
              "      <td>0.103069</td>\n",
              "    </tr>\n",
              "  </tbody>\n",
              "</table>\n",
              "</div>"
            ],
            "text/plain": [
              "        word        x1        x2        x3        x4        x5\n",
              "0       wise -0.017500 -0.047196 -0.015429  0.033801  0.046980\n",
              "1       king -0.111149 -0.099291 -0.045373 -0.015704  0.130347\n",
              "2   princess  0.001088  0.030103  0.041315 -0.034006 -0.022460\n",
              "3      woman  0.022550  0.040805 -0.035880 -0.002690 -0.031486\n",
              "4        man -0.037473  0.007255 -0.069674 -0.039180  0.026676\n",
              "5      young  0.104356  0.077675 -0.104428 -0.067389 -0.048291\n",
              "6       girl -0.063664 -0.136902 -0.074042 -0.070217  0.028184\n",
              "7        boy -0.073376 -0.047440 -0.115266  0.040711  0.032644\n",
              "8     prince -0.034597 -0.119221  0.121729  0.121708  0.017625\n",
              "9     strong -0.005617  0.041548  0.049641 -0.045008 -0.048654\n",
              "10     queen -0.033710 -0.132603 -0.068231  0.059239 -0.023041\n",
              "11    pretty -0.051726 -0.002500  0.039295 -0.003331  0.103069"
            ]
          },
          "metadata": {},
          "execution_count": 42
        }
      ]
    },
    {
      "cell_type": "code",
      "metadata": {
        "colab": {
          "base_uri": "https://localhost:8080/",
          "height": 265
        },
        "id": "wGSEStFgaODX",
        "outputId": "b5499a78-6b70-45b7-851a-f43e55101255"
      },
      "source": [
        "import matplotlib.pyplot as plt\n",
        "\n",
        "fig, ax = plt.subplots()\n",
        "\n",
        "for word, x1, x2, x3, x4, x5 in zip(w2v_df['word'], w2v_df['x1'], w2v_df ['x2'], w2v_df['x3'], w2v_df ['x4'], w2v_df['x5']):\n",
        "    ax.annotate(word, (x1,x2 ))\n",
        "\n",
        "PADDING = 1.0\n",
        "x_axis_min = np.amin(weights, axis=0)[0]-PADDING\n",
        "y_axis_min = np.amin(weights, axis=0)[1]-PADDING\n",
        "x_axis_max = np.amax(weights, axis=0)[0]+PADDING\n",
        "y_axis_max = np.amax(weights, axis=0)[1]+PADDING\n",
        "\n",
        "plt.xlim(x_axis_min, x_axis_max)\n",
        "plt.ylim(y_axis_min, y_axis_max)\n",
        "plt.rcParams[\"figure.figsize\"] = (10,10)\n",
        "\n",
        "plt.show()"
      ],
      "execution_count": 43,
      "outputs": [
        {
          "output_type": "display_data",
          "data": {
            "image/png": "[encoded data removed]",
            "text/plain": [
              "<Figure size 432x288 with 1 Axes>"
            ]
          },
          "metadata": {
            "needs_background": "light"
          }
        }
      ]
    },
    {
      "cell_type": "code",
      "metadata": {
        "id": "nBtKlsFzL-wb"
      },
      "source": [
        "#Reference\n",
        "#https://github.com/minsuk-heo/python_tutorial/blob/master/data_science/nlp/word2vec_tensorflow.ipynb"
      ],
      "execution_count": null,
      "outputs": []
    }
  ]
}