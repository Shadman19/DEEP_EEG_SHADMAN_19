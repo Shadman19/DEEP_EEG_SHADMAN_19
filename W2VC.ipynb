{
  "nbformat": 4,
  "nbformat_minor": 0,
  "metadata": {
    "colab": {
      "name": "W2VC.ipynb",
      "provenance": [],
      "collapsed_sections": [],
      "include_colab_link": true
    },
    "kernelspec": {
      "name": "python3",
      "display_name": "Python 3"
    },
    "language_info": {
      "name": "python"
    }
  },
  "cells": [
    {
      "cell_type": "markdown",
      "metadata": {
        "id": "view-in-github",
        "colab_type": "text"
      },
      "source": [
        "<a href=\"https://colab.research.google.com/github/Shadman19/DEEP_EEG_SHADMAN_19/blob/main/W2VC.ipynb\" target=\"_parent\"><img src=\"https://colab.research.google.com/assets/colab-badge.svg\" alt=\"Open In Colab\"/></a>"
      ]
    },
    {
      "cell_type": "code",
      "metadata": {
        "id": "f0BKu4aqwiwj"
      },
      "source": [
        "import numpy as np\n",
        "from tensorflow.keras.preprocessing.text import one_hot\n",
        "from tensorflow.keras.preprocessing.sequence import pad_sequences\n",
        "from tensorflow.keras.models import Sequential\n",
        "from tensorflow.keras.layers import Dense\n",
        "from tensorflow.keras.layers import Flatten, Embedding"
      ],
      "execution_count": 1,
      "outputs": []
    },
    {
      "cell_type": "code",
      "metadata": {
        "id": "SmCS9AsPtXNs"
      },
      "source": [
        "corpus = ['king is a strong man',\n",
        "          'queen is a wise woman', \n",
        "          'boy is a young man',\n",
        "          'girl is a young woman',\n",
        "          'prince is a young king',\n",
        "          'princess is a young queen',\n",
        "          'man is strong',\n",
        "          'woman is pretty',\n",
        "          'prince is a boy will be king',\n",
        "          'princess is a girl will be queen']"
      ],
      "execution_count": 2,
      "outputs": []
    },
    {
      "cell_type": "code",
      "metadata": {
        "id": "f2pGoq-GwqGh"
      },
      "source": [
        "def remove_stop_words(corpus):\n",
        "    stop_words = ['is','a','will','be']\n",
        "    results = []\n",
        "    for text in corpus:\n",
        "        tmp = text.split(' ')\n",
        "        for stop_word in stop_words:\n",
        "            if stop_word in tmp:\n",
        "                tmp.remove(stop_word)\n",
        "        results.append(\" \".join(tmp))\n",
        "\n",
        "    return results"
      ],
      "execution_count": 3,
      "outputs": []
    },
    {
      "cell_type": "code",
      "metadata": {
        "id": "0aiL6grhyDYI"
      },
      "source": [
        "corpus = remove_stop_words(corpus)"
      ],
      "execution_count": 4,
      "outputs": []
    },
    {
      "cell_type": "code",
      "metadata": {
        "colab": {
          "base_uri": "https://localhost:8080/"
        },
        "id": "Mb8LnhsP6piM",
        "outputId": "8a53f2b0-cfc5-459b-98fa-b11856787e05"
      },
      "source": [
        "corpus"
      ],
      "execution_count": 5,
      "outputs": [
        {
          "output_type": "execute_result",
          "data": {
            "text/plain": [
              "['king strong man',\n",
              " 'queen wise woman',\n",
              " 'boy young man',\n",
              " 'girl young woman',\n",
              " 'prince young king',\n",
              " 'princess young queen',\n",
              " 'man strong',\n",
              " 'woman pretty',\n",
              " 'prince boy king',\n",
              " 'princess girl queen']"
            ]
          },
          "metadata": {},
          "execution_count": 5
        }
      ]
    },
    {
      "cell_type": "code",
      "metadata": {
        "id": "NKA2I4OfyNnm"
      },
      "source": [
        "words = []\n",
        "for text in corpus:\n",
        "    for word in text.split(' '):\n",
        "        words.append(word)\n",
        "\n",
        "words = set(words)"
      ],
      "execution_count": 6,
      "outputs": []
    },
    {
      "cell_type": "code",
      "metadata": {
        "colab": {
          "base_uri": "https://localhost:8080/"
        },
        "id": "Elh0FG7-zvkH",
        "outputId": "4a81ea22-759e-4ac0-bbdd-311491352ff9"
      },
      "source": [
        "words"
      ],
      "execution_count": 7,
      "outputs": [
        {
          "output_type": "execute_result",
          "data": {
            "text/plain": [
              "{'boy',\n",
              " 'girl',\n",
              " 'king',\n",
              " 'man',\n",
              " 'pretty',\n",
              " 'prince',\n",
              " 'princess',\n",
              " 'queen',\n",
              " 'strong',\n",
              " 'wise',\n",
              " 'woman',\n",
              " 'young'}"
            ]
          },
          "metadata": {},
          "execution_count": 7
        }
      ]
    },
    {
      "cell_type": "code",
      "metadata": {
        "id": "LUBmBDN8zxbv"
      },
      "source": [
        "word2int = {}\n",
        "\n",
        "for i,word in enumerate(words):\n",
        "    word2int[word] = i\n",
        "\n",
        "sentences = []\n",
        "for sentence in corpus:\n",
        "    sentences.append(sentence.split())\n",
        "\n",
        "WINDOW_SIZE = 2\n",
        "\n",
        "data = []\n",
        "for sentence in sentences:\n",
        "    for idx, word in enumerate(sentence):\n",
        "        for neighbor in sentence[max(idx - WINDOW_SIZE, 0) : min(idx + WINDOW_SIZE, len(sentence))+1]:\n",
        "          if neighbor != word:\n",
        "              data.append([word, neighbor])"
      ],
      "execution_count": 8,
      "outputs": []
    },
    {
      "cell_type": "code",
      "metadata": {
        "colab": {
          "base_uri": "https://localhost:8080/"
        },
        "id": "TAzId-RH4_uK",
        "outputId": "5539e15b-0ae3-4ff6-fbbb-757cab3f0d38"
      },
      "source": [
        "import pandas as pd\n",
        "for text in corpus:\n",
        "    print(text)\n",
        "#original\n",
        "df = pd.DataFrame(data, columns = ['input', 'label'])\n",
        "#koo\n",
        "#df = pd.DataFrame(data)\n"
      ],
      "execution_count": 9,
      "outputs": [
        {
          "output_type": "stream",
          "name": "stdout",
          "text": [
            "king strong man\n",
            "queen wise woman\n",
            "boy young man\n",
            "girl young woman\n",
            "prince young king\n",
            "princess young queen\n",
            "man strong\n",
            "woman pretty\n",
            "prince boy king\n",
            "princess girl queen\n"
          ]
        }
      ]
    },
    {
      "cell_type": "code",
      "metadata": {
        "colab": {
          "base_uri": "https://localhost:8080/"
        },
        "id": "Tme98jBFrxAL",
        "outputId": "80d0eb32-f51e-4cf5-e9cb-d04b06a77fa9"
      },
      "source": [
        "#koo\n",
        "data"
      ],
      "execution_count": 10,
      "outputs": [
        {
          "output_type": "execute_result",
          "data": {
            "text/plain": [
              "[['king', 'strong'],\n",
              " ['king', 'man'],\n",
              " ['strong', 'king'],\n",
              " ['strong', 'man'],\n",
              " ['man', 'king'],\n",
              " ['man', 'strong'],\n",
              " ['queen', 'wise'],\n",
              " ['queen', 'woman'],\n",
              " ['wise', 'queen'],\n",
              " ['wise', 'woman'],\n",
              " ['woman', 'queen'],\n",
              " ['woman', 'wise'],\n",
              " ['boy', 'young'],\n",
              " ['boy', 'man'],\n",
              " ['young', 'boy'],\n",
              " ['young', 'man'],\n",
              " ['man', 'boy'],\n",
              " ['man', 'young'],\n",
              " ['girl', 'young'],\n",
              " ['girl', 'woman'],\n",
              " ['young', 'girl'],\n",
              " ['young', 'woman'],\n",
              " ['woman', 'girl'],\n",
              " ['woman', 'young'],\n",
              " ['prince', 'young'],\n",
              " ['prince', 'king'],\n",
              " ['young', 'prince'],\n",
              " ['young', 'king'],\n",
              " ['king', 'prince'],\n",
              " ['king', 'young'],\n",
              " ['princess', 'young'],\n",
              " ['princess', 'queen'],\n",
              " ['young', 'princess'],\n",
              " ['young', 'queen'],\n",
              " ['queen', 'princess'],\n",
              " ['queen', 'young'],\n",
              " ['man', 'strong'],\n",
              " ['strong', 'man'],\n",
              " ['woman', 'pretty'],\n",
              " ['pretty', 'woman'],\n",
              " ['prince', 'boy'],\n",
              " ['prince', 'king'],\n",
              " ['boy', 'prince'],\n",
              " ['boy', 'king'],\n",
              " ['king', 'prince'],\n",
              " ['king', 'boy'],\n",
              " ['princess', 'girl'],\n",
              " ['princess', 'queen'],\n",
              " ['girl', 'princess'],\n",
              " ['girl', 'queen'],\n",
              " ['queen', 'princess'],\n",
              " ['queen', 'girl']]"
            ]
          },
          "metadata": {},
          "execution_count": 10
        }
      ]
    },
    {
      "cell_type": "code",
      "metadata": {
        "id": "E_sthc5BuxBv"
      },
      "source": [
        "#koo\n",
        "#x = df.drop([1],axis=1)\n",
        "#x"
      ],
      "execution_count": 11,
      "outputs": []
    },
    {
      "cell_type": "code",
      "metadata": {
        "id": "BUP6PxrxvkQl"
      },
      "source": [
        "#y = df.drop([0],axis=1)\n",
        "#y"
      ],
      "execution_count": 12,
      "outputs": []
    },
    {
      "cell_type": "code",
      "metadata": {
        "colab": {
          "base_uri": "https://localhost:8080/"
        },
        "id": "r857T7tpo1wo",
        "outputId": "9217b7f7-23f9-42a0-dba0-da44c5cd93de"
      },
      "source": [
        "type(corpus)"
      ],
      "execution_count": 13,
      "outputs": [
        {
          "output_type": "execute_result",
          "data": {
            "text/plain": [
              "list"
            ]
          },
          "metadata": {},
          "execution_count": 13
        }
      ]
    },
    {
      "cell_type": "code",
      "metadata": {
        "id": "qI0WbrTNofQp"
      },
      "source": [
        "#type(x)"
      ],
      "execution_count": 14,
      "outputs": []
    },
    {
      "cell_type": "code",
      "metadata": {
        "id": "4dMT-bRIo630"
      },
      "source": [
        "#type(y)"
      ],
      "execution_count": 15,
      "outputs": []
    },
    {
      "cell_type": "code",
      "metadata": {
        "id": "l2T7Ey5fvujX"
      },
      "source": [
        "#vocab_size = 100\n",
        "#encoded_data = [one_hot(d,vocab_size) for d in data]\n",
        "#print(encoded_data)"
      ],
      "execution_count": 16,
      "outputs": []
    },
    {
      "cell_type": "code",
      "metadata": {
        "colab": {
          "base_uri": "https://localhost:8080/",
          "height": 1000
        },
        "id": "1Oo9z8qXtFpH",
        "outputId": "644d3837-74c8-4ee9-bfb4-73ff02f1c542"
      },
      "source": [
        "#koo\n",
        "df"
      ],
      "execution_count": 17,
      "outputs": [
        {
          "output_type": "execute_result",
          "data": {
            "text/html": [
              "<div>\n",
              "<style scoped>\n",
              "    .dataframe tbody tr th:only-of-type {\n",
              "        vertical-align: middle;\n",
              "    }\n",
              "\n",
              "    .dataframe tbody tr th {\n",
              "        vertical-align: top;\n",
              "    }\n",
              "\n",
              "    .dataframe thead th {\n",
              "        text-align: right;\n",
              "    }\n",
              "</style>\n",
              "<table border=\"1\" class=\"dataframe\">\n",
              "  <thead>\n",
              "    <tr style=\"text-align: right;\">\n",
              "      <th></th>\n",
              "      <th>input</th>\n",
              "      <th>label</th>\n",
              "    </tr>\n",
              "  </thead>\n",
              "  <tbody>\n",
              "    <tr>\n",
              "      <th>0</th>\n",
              "      <td>king</td>\n",
              "      <td>strong</td>\n",
              "    </tr>\n",
              "    <tr>\n",
              "      <th>1</th>\n",
              "      <td>king</td>\n",
              "      <td>man</td>\n",
              "    </tr>\n",
              "    <tr>\n",
              "      <th>2</th>\n",
              "      <td>strong</td>\n",
              "      <td>king</td>\n",
              "    </tr>\n",
              "    <tr>\n",
              "      <th>3</th>\n",
              "      <td>strong</td>\n",
              "      <td>man</td>\n",
              "    </tr>\n",
              "    <tr>\n",
              "      <th>4</th>\n",
              "      <td>man</td>\n",
              "      <td>king</td>\n",
              "    </tr>\n",
              "    <tr>\n",
              "      <th>5</th>\n",
              "      <td>man</td>\n",
              "      <td>strong</td>\n",
              "    </tr>\n",
              "    <tr>\n",
              "      <th>6</th>\n",
              "      <td>queen</td>\n",
              "      <td>wise</td>\n",
              "    </tr>\n",
              "    <tr>\n",
              "      <th>7</th>\n",
              "      <td>queen</td>\n",
              "      <td>woman</td>\n",
              "    </tr>\n",
              "    <tr>\n",
              "      <th>8</th>\n",
              "      <td>wise</td>\n",
              "      <td>queen</td>\n",
              "    </tr>\n",
              "    <tr>\n",
              "      <th>9</th>\n",
              "      <td>wise</td>\n",
              "      <td>woman</td>\n",
              "    </tr>\n",
              "    <tr>\n",
              "      <th>10</th>\n",
              "      <td>woman</td>\n",
              "      <td>queen</td>\n",
              "    </tr>\n",
              "    <tr>\n",
              "      <th>11</th>\n",
              "      <td>woman</td>\n",
              "      <td>wise</td>\n",
              "    </tr>\n",
              "    <tr>\n",
              "      <th>12</th>\n",
              "      <td>boy</td>\n",
              "      <td>young</td>\n",
              "    </tr>\n",
              "    <tr>\n",
              "      <th>13</th>\n",
              "      <td>boy</td>\n",
              "      <td>man</td>\n",
              "    </tr>\n",
              "    <tr>\n",
              "      <th>14</th>\n",
              "      <td>young</td>\n",
              "      <td>boy</td>\n",
              "    </tr>\n",
              "    <tr>\n",
              "      <th>15</th>\n",
              "      <td>young</td>\n",
              "      <td>man</td>\n",
              "    </tr>\n",
              "    <tr>\n",
              "      <th>16</th>\n",
              "      <td>man</td>\n",
              "      <td>boy</td>\n",
              "    </tr>\n",
              "    <tr>\n",
              "      <th>17</th>\n",
              "      <td>man</td>\n",
              "      <td>young</td>\n",
              "    </tr>\n",
              "    <tr>\n",
              "      <th>18</th>\n",
              "      <td>girl</td>\n",
              "      <td>young</td>\n",
              "    </tr>\n",
              "    <tr>\n",
              "      <th>19</th>\n",
              "      <td>girl</td>\n",
              "      <td>woman</td>\n",
              "    </tr>\n",
              "    <tr>\n",
              "      <th>20</th>\n",
              "      <td>young</td>\n",
              "      <td>girl</td>\n",
              "    </tr>\n",
              "    <tr>\n",
              "      <th>21</th>\n",
              "      <td>young</td>\n",
              "      <td>woman</td>\n",
              "    </tr>\n",
              "    <tr>\n",
              "      <th>22</th>\n",
              "      <td>woman</td>\n",
              "      <td>girl</td>\n",
              "    </tr>\n",
              "    <tr>\n",
              "      <th>23</th>\n",
              "      <td>woman</td>\n",
              "      <td>young</td>\n",
              "    </tr>\n",
              "    <tr>\n",
              "      <th>24</th>\n",
              "      <td>prince</td>\n",
              "      <td>young</td>\n",
              "    </tr>\n",
              "    <tr>\n",
              "      <th>25</th>\n",
              "      <td>prince</td>\n",
              "      <td>king</td>\n",
              "    </tr>\n",
              "    <tr>\n",
              "      <th>26</th>\n",
              "      <td>young</td>\n",
              "      <td>prince</td>\n",
              "    </tr>\n",
              "    <tr>\n",
              "      <th>27</th>\n",
              "      <td>young</td>\n",
              "      <td>king</td>\n",
              "    </tr>\n",
              "    <tr>\n",
              "      <th>28</th>\n",
              "      <td>king</td>\n",
              "      <td>prince</td>\n",
              "    </tr>\n",
              "    <tr>\n",
              "      <th>29</th>\n",
              "      <td>king</td>\n",
              "      <td>young</td>\n",
              "    </tr>\n",
              "    <tr>\n",
              "      <th>30</th>\n",
              "      <td>princess</td>\n",
              "      <td>young</td>\n",
              "    </tr>\n",
              "    <tr>\n",
              "      <th>31</th>\n",
              "      <td>princess</td>\n",
              "      <td>queen</td>\n",
              "    </tr>\n",
              "    <tr>\n",
              "      <th>32</th>\n",
              "      <td>young</td>\n",
              "      <td>princess</td>\n",
              "    </tr>\n",
              "    <tr>\n",
              "      <th>33</th>\n",
              "      <td>young</td>\n",
              "      <td>queen</td>\n",
              "    </tr>\n",
              "    <tr>\n",
              "      <th>34</th>\n",
              "      <td>queen</td>\n",
              "      <td>princess</td>\n",
              "    </tr>\n",
              "    <tr>\n",
              "      <th>35</th>\n",
              "      <td>queen</td>\n",
              "      <td>young</td>\n",
              "    </tr>\n",
              "    <tr>\n",
              "      <th>36</th>\n",
              "      <td>man</td>\n",
              "      <td>strong</td>\n",
              "    </tr>\n",
              "    <tr>\n",
              "      <th>37</th>\n",
              "      <td>strong</td>\n",
              "      <td>man</td>\n",
              "    </tr>\n",
              "    <tr>\n",
              "      <th>38</th>\n",
              "      <td>woman</td>\n",
              "      <td>pretty</td>\n",
              "    </tr>\n",
              "    <tr>\n",
              "      <th>39</th>\n",
              "      <td>pretty</td>\n",
              "      <td>woman</td>\n",
              "    </tr>\n",
              "    <tr>\n",
              "      <th>40</th>\n",
              "      <td>prince</td>\n",
              "      <td>boy</td>\n",
              "    </tr>\n",
              "    <tr>\n",
              "      <th>41</th>\n",
              "      <td>prince</td>\n",
              "      <td>king</td>\n",
              "    </tr>\n",
              "    <tr>\n",
              "      <th>42</th>\n",
              "      <td>boy</td>\n",
              "      <td>prince</td>\n",
              "    </tr>\n",
              "    <tr>\n",
              "      <th>43</th>\n",
              "      <td>boy</td>\n",
              "      <td>king</td>\n",
              "    </tr>\n",
              "    <tr>\n",
              "      <th>44</th>\n",
              "      <td>king</td>\n",
              "      <td>prince</td>\n",
              "    </tr>\n",
              "    <tr>\n",
              "      <th>45</th>\n",
              "      <td>king</td>\n",
              "      <td>boy</td>\n",
              "    </tr>\n",
              "    <tr>\n",
              "      <th>46</th>\n",
              "      <td>princess</td>\n",
              "      <td>girl</td>\n",
              "    </tr>\n",
              "    <tr>\n",
              "      <th>47</th>\n",
              "      <td>princess</td>\n",
              "      <td>queen</td>\n",
              "    </tr>\n",
              "    <tr>\n",
              "      <th>48</th>\n",
              "      <td>girl</td>\n",
              "      <td>princess</td>\n",
              "    </tr>\n",
              "    <tr>\n",
              "      <th>49</th>\n",
              "      <td>girl</td>\n",
              "      <td>queen</td>\n",
              "    </tr>\n",
              "    <tr>\n",
              "      <th>50</th>\n",
              "      <td>queen</td>\n",
              "      <td>princess</td>\n",
              "    </tr>\n",
              "    <tr>\n",
              "      <th>51</th>\n",
              "      <td>queen</td>\n",
              "      <td>girl</td>\n",
              "    </tr>\n",
              "  </tbody>\n",
              "</table>\n",
              "</div>"
            ],
            "text/plain": [
              "       input     label\n",
              "0       king    strong\n",
              "1       king       man\n",
              "2     strong      king\n",
              "3     strong       man\n",
              "4        man      king\n",
              "5        man    strong\n",
              "6      queen      wise\n",
              "7      queen     woman\n",
              "8       wise     queen\n",
              "9       wise     woman\n",
              "10     woman     queen\n",
              "11     woman      wise\n",
              "12       boy     young\n",
              "13       boy       man\n",
              "14     young       boy\n",
              "15     young       man\n",
              "16       man       boy\n",
              "17       man     young\n",
              "18      girl     young\n",
              "19      girl     woman\n",
              "20     young      girl\n",
              "21     young     woman\n",
              "22     woman      girl\n",
              "23     woman     young\n",
              "24    prince     young\n",
              "25    prince      king\n",
              "26     young    prince\n",
              "27     young      king\n",
              "28      king    prince\n",
              "29      king     young\n",
              "30  princess     young\n",
              "31  princess     queen\n",
              "32     young  princess\n",
              "33     young     queen\n",
              "34     queen  princess\n",
              "35     queen     young\n",
              "36       man    strong\n",
              "37    strong       man\n",
              "38     woman    pretty\n",
              "39    pretty     woman\n",
              "40    prince       boy\n",
              "41    prince      king\n",
              "42       boy    prince\n",
              "43       boy      king\n",
              "44      king    prince\n",
              "45      king       boy\n",
              "46  princess      girl\n",
              "47  princess     queen\n",
              "48      girl  princess\n",
              "49      girl     queen\n",
              "50     queen  princess\n",
              "51     queen      girl"
            ]
          },
          "metadata": {},
          "execution_count": 17
        }
      ]
    },
    {
      "cell_type": "code",
      "metadata": {
        "colab": {
          "base_uri": "https://localhost:8080/",
          "height": 359
        },
        "id": "7fZty9xU67W4",
        "outputId": "35864c5a-535f-4bd8-8792-40e4cddcd8dc"
      },
      "source": [
        "df.head(10)"
      ],
      "execution_count": 18,
      "outputs": [
        {
          "output_type": "execute_result",
          "data": {
            "text/html": [
              "<div>\n",
              "<style scoped>\n",
              "    .dataframe tbody tr th:only-of-type {\n",
              "        vertical-align: middle;\n",
              "    }\n",
              "\n",
              "    .dataframe tbody tr th {\n",
              "        vertical-align: top;\n",
              "    }\n",
              "\n",
              "    .dataframe thead th {\n",
              "        text-align: right;\n",
              "    }\n",
              "</style>\n",
              "<table border=\"1\" class=\"dataframe\">\n",
              "  <thead>\n",
              "    <tr style=\"text-align: right;\">\n",
              "      <th></th>\n",
              "      <th>input</th>\n",
              "      <th>label</th>\n",
              "    </tr>\n",
              "  </thead>\n",
              "  <tbody>\n",
              "    <tr>\n",
              "      <th>0</th>\n",
              "      <td>king</td>\n",
              "      <td>strong</td>\n",
              "    </tr>\n",
              "    <tr>\n",
              "      <th>1</th>\n",
              "      <td>king</td>\n",
              "      <td>man</td>\n",
              "    </tr>\n",
              "    <tr>\n",
              "      <th>2</th>\n",
              "      <td>strong</td>\n",
              "      <td>king</td>\n",
              "    </tr>\n",
              "    <tr>\n",
              "      <th>3</th>\n",
              "      <td>strong</td>\n",
              "      <td>man</td>\n",
              "    </tr>\n",
              "    <tr>\n",
              "      <th>4</th>\n",
              "      <td>man</td>\n",
              "      <td>king</td>\n",
              "    </tr>\n",
              "    <tr>\n",
              "      <th>5</th>\n",
              "      <td>man</td>\n",
              "      <td>strong</td>\n",
              "    </tr>\n",
              "    <tr>\n",
              "      <th>6</th>\n",
              "      <td>queen</td>\n",
              "      <td>wise</td>\n",
              "    </tr>\n",
              "    <tr>\n",
              "      <th>7</th>\n",
              "      <td>queen</td>\n",
              "      <td>woman</td>\n",
              "    </tr>\n",
              "    <tr>\n",
              "      <th>8</th>\n",
              "      <td>wise</td>\n",
              "      <td>queen</td>\n",
              "    </tr>\n",
              "    <tr>\n",
              "      <th>9</th>\n",
              "      <td>wise</td>\n",
              "      <td>woman</td>\n",
              "    </tr>\n",
              "  </tbody>\n",
              "</table>\n",
              "</div>"
            ],
            "text/plain": [
              "    input   label\n",
              "0    king  strong\n",
              "1    king     man\n",
              "2  strong    king\n",
              "3  strong     man\n",
              "4     man    king\n",
              "5     man  strong\n",
              "6   queen    wise\n",
              "7   queen   woman\n",
              "8    wise   queen\n",
              "9    wise   woman"
            ]
          },
          "metadata": {},
          "execution_count": 18
        }
      ]
    },
    {
      "cell_type": "code",
      "metadata": {
        "colab": {
          "base_uri": "https://localhost:8080/"
        },
        "id": "3RFBIah16_-A",
        "outputId": "708ffa1b-290e-4a55-9dfd-00cc64024fcc"
      },
      "source": [
        "df.shape"
      ],
      "execution_count": 19,
      "outputs": [
        {
          "output_type": "execute_result",
          "data": {
            "text/plain": [
              "(52, 2)"
            ]
          },
          "metadata": {},
          "execution_count": 19
        }
      ]
    },
    {
      "cell_type": "code",
      "metadata": {
        "colab": {
          "base_uri": "https://localhost:8080/",
          "height": 1000
        },
        "id": "GBbzBzR81Oql",
        "outputId": "3ea82a8a-d77b-4db8-8e7e-25fc2928ff86"
      },
      "source": [
        "xtry = pd.DataFrame(df , columns = ['input'])\n",
        "xtry"
      ],
      "execution_count": 20,
      "outputs": [
        {
          "output_type": "execute_result",
          "data": {
            "text/html": [
              "<div>\n",
              "<style scoped>\n",
              "    .dataframe tbody tr th:only-of-type {\n",
              "        vertical-align: middle;\n",
              "    }\n",
              "\n",
              "    .dataframe tbody tr th {\n",
              "        vertical-align: top;\n",
              "    }\n",
              "\n",
              "    .dataframe thead th {\n",
              "        text-align: right;\n",
              "    }\n",
              "</style>\n",
              "<table border=\"1\" class=\"dataframe\">\n",
              "  <thead>\n",
              "    <tr style=\"text-align: right;\">\n",
              "      <th></th>\n",
              "      <th>input</th>\n",
              "    </tr>\n",
              "  </thead>\n",
              "  <tbody>\n",
              "    <tr>\n",
              "      <th>0</th>\n",
              "      <td>king</td>\n",
              "    </tr>\n",
              "    <tr>\n",
              "      <th>1</th>\n",
              "      <td>king</td>\n",
              "    </tr>\n",
              "    <tr>\n",
              "      <th>2</th>\n",
              "      <td>strong</td>\n",
              "    </tr>\n",
              "    <tr>\n",
              "      <th>3</th>\n",
              "      <td>strong</td>\n",
              "    </tr>\n",
              "    <tr>\n",
              "      <th>4</th>\n",
              "      <td>man</td>\n",
              "    </tr>\n",
              "    <tr>\n",
              "      <th>5</th>\n",
              "      <td>man</td>\n",
              "    </tr>\n",
              "    <tr>\n",
              "      <th>6</th>\n",
              "      <td>queen</td>\n",
              "    </tr>\n",
              "    <tr>\n",
              "      <th>7</th>\n",
              "      <td>queen</td>\n",
              "    </tr>\n",
              "    <tr>\n",
              "      <th>8</th>\n",
              "      <td>wise</td>\n",
              "    </tr>\n",
              "    <tr>\n",
              "      <th>9</th>\n",
              "      <td>wise</td>\n",
              "    </tr>\n",
              "    <tr>\n",
              "      <th>10</th>\n",
              "      <td>woman</td>\n",
              "    </tr>\n",
              "    <tr>\n",
              "      <th>11</th>\n",
              "      <td>woman</td>\n",
              "    </tr>\n",
              "    <tr>\n",
              "      <th>12</th>\n",
              "      <td>boy</td>\n",
              "    </tr>\n",
              "    <tr>\n",
              "      <th>13</th>\n",
              "      <td>boy</td>\n",
              "    </tr>\n",
              "    <tr>\n",
              "      <th>14</th>\n",
              "      <td>young</td>\n",
              "    </tr>\n",
              "    <tr>\n",
              "      <th>15</th>\n",
              "      <td>young</td>\n",
              "    </tr>\n",
              "    <tr>\n",
              "      <th>16</th>\n",
              "      <td>man</td>\n",
              "    </tr>\n",
              "    <tr>\n",
              "      <th>17</th>\n",
              "      <td>man</td>\n",
              "    </tr>\n",
              "    <tr>\n",
              "      <th>18</th>\n",
              "      <td>girl</td>\n",
              "    </tr>\n",
              "    <tr>\n",
              "      <th>19</th>\n",
              "      <td>girl</td>\n",
              "    </tr>\n",
              "    <tr>\n",
              "      <th>20</th>\n",
              "      <td>young</td>\n",
              "    </tr>\n",
              "    <tr>\n",
              "      <th>21</th>\n",
              "      <td>young</td>\n",
              "    </tr>\n",
              "    <tr>\n",
              "      <th>22</th>\n",
              "      <td>woman</td>\n",
              "    </tr>\n",
              "    <tr>\n",
              "      <th>23</th>\n",
              "      <td>woman</td>\n",
              "    </tr>\n",
              "    <tr>\n",
              "      <th>24</th>\n",
              "      <td>prince</td>\n",
              "    </tr>\n",
              "    <tr>\n",
              "      <th>25</th>\n",
              "      <td>prince</td>\n",
              "    </tr>\n",
              "    <tr>\n",
              "      <th>26</th>\n",
              "      <td>young</td>\n",
              "    </tr>\n",
              "    <tr>\n",
              "      <th>27</th>\n",
              "      <td>young</td>\n",
              "    </tr>\n",
              "    <tr>\n",
              "      <th>28</th>\n",
              "      <td>king</td>\n",
              "    </tr>\n",
              "    <tr>\n",
              "      <th>29</th>\n",
              "      <td>king</td>\n",
              "    </tr>\n",
              "    <tr>\n",
              "      <th>30</th>\n",
              "      <td>princess</td>\n",
              "    </tr>\n",
              "    <tr>\n",
              "      <th>31</th>\n",
              "      <td>princess</td>\n",
              "    </tr>\n",
              "    <tr>\n",
              "      <th>32</th>\n",
              "      <td>young</td>\n",
              "    </tr>\n",
              "    <tr>\n",
              "      <th>33</th>\n",
              "      <td>young</td>\n",
              "    </tr>\n",
              "    <tr>\n",
              "      <th>34</th>\n",
              "      <td>queen</td>\n",
              "    </tr>\n",
              "    <tr>\n",
              "      <th>35</th>\n",
              "      <td>queen</td>\n",
              "    </tr>\n",
              "    <tr>\n",
              "      <th>36</th>\n",
              "      <td>man</td>\n",
              "    </tr>\n",
              "    <tr>\n",
              "      <th>37</th>\n",
              "      <td>strong</td>\n",
              "    </tr>\n",
              "    <tr>\n",
              "      <th>38</th>\n",
              "      <td>woman</td>\n",
              "    </tr>\n",
              "    <tr>\n",
              "      <th>39</th>\n",
              "      <td>pretty</td>\n",
              "    </tr>\n",
              "    <tr>\n",
              "      <th>40</th>\n",
              "      <td>prince</td>\n",
              "    </tr>\n",
              "    <tr>\n",
              "      <th>41</th>\n",
              "      <td>prince</td>\n",
              "    </tr>\n",
              "    <tr>\n",
              "      <th>42</th>\n",
              "      <td>boy</td>\n",
              "    </tr>\n",
              "    <tr>\n",
              "      <th>43</th>\n",
              "      <td>boy</td>\n",
              "    </tr>\n",
              "    <tr>\n",
              "      <th>44</th>\n",
              "      <td>king</td>\n",
              "    </tr>\n",
              "    <tr>\n",
              "      <th>45</th>\n",
              "      <td>king</td>\n",
              "    </tr>\n",
              "    <tr>\n",
              "      <th>46</th>\n",
              "      <td>princess</td>\n",
              "    </tr>\n",
              "    <tr>\n",
              "      <th>47</th>\n",
              "      <td>princess</td>\n",
              "    </tr>\n",
              "    <tr>\n",
              "      <th>48</th>\n",
              "      <td>girl</td>\n",
              "    </tr>\n",
              "    <tr>\n",
              "      <th>49</th>\n",
              "      <td>girl</td>\n",
              "    </tr>\n",
              "    <tr>\n",
              "      <th>50</th>\n",
              "      <td>queen</td>\n",
              "    </tr>\n",
              "    <tr>\n",
              "      <th>51</th>\n",
              "      <td>queen</td>\n",
              "    </tr>\n",
              "  </tbody>\n",
              "</table>\n",
              "</div>"
            ],
            "text/plain": [
              "       input\n",
              "0       king\n",
              "1       king\n",
              "2     strong\n",
              "3     strong\n",
              "4        man\n",
              "5        man\n",
              "6      queen\n",
              "7      queen\n",
              "8       wise\n",
              "9       wise\n",
              "10     woman\n",
              "11     woman\n",
              "12       boy\n",
              "13       boy\n",
              "14     young\n",
              "15     young\n",
              "16       man\n",
              "17       man\n",
              "18      girl\n",
              "19      girl\n",
              "20     young\n",
              "21     young\n",
              "22     woman\n",
              "23     woman\n",
              "24    prince\n",
              "25    prince\n",
              "26     young\n",
              "27     young\n",
              "28      king\n",
              "29      king\n",
              "30  princess\n",
              "31  princess\n",
              "32     young\n",
              "33     young\n",
              "34     queen\n",
              "35     queen\n",
              "36       man\n",
              "37    strong\n",
              "38     woman\n",
              "39    pretty\n",
              "40    prince\n",
              "41    prince\n",
              "42       boy\n",
              "43       boy\n",
              "44      king\n",
              "45      king\n",
              "46  princess\n",
              "47  princess\n",
              "48      girl\n",
              "49      girl\n",
              "50     queen\n",
              "51     queen"
            ]
          },
          "metadata": {},
          "execution_count": 20
        }
      ]
    },
    {
      "cell_type": "code",
      "metadata": {
        "colab": {
          "base_uri": "https://localhost:8080/",
          "height": 1000
        },
        "id": "g9miR9202To9",
        "outputId": "e85304e3-b290-4970-9b00-5fbb57bc8287"
      },
      "source": [
        "ytry = pd.DataFrame(df , columns = ['label'])\n",
        "ytry"
      ],
      "execution_count": 21,
      "outputs": [
        {
          "output_type": "execute_result",
          "data": {
            "text/html": [
              "<div>\n",
              "<style scoped>\n",
              "    .dataframe tbody tr th:only-of-type {\n",
              "        vertical-align: middle;\n",
              "    }\n",
              "\n",
              "    .dataframe tbody tr th {\n",
              "        vertical-align: top;\n",
              "    }\n",
              "\n",
              "    .dataframe thead th {\n",
              "        text-align: right;\n",
              "    }\n",
              "</style>\n",
              "<table border=\"1\" class=\"dataframe\">\n",
              "  <thead>\n",
              "    <tr style=\"text-align: right;\">\n",
              "      <th></th>\n",
              "      <th>label</th>\n",
              "    </tr>\n",
              "  </thead>\n",
              "  <tbody>\n",
              "    <tr>\n",
              "      <th>0</th>\n",
              "      <td>strong</td>\n",
              "    </tr>\n",
              "    <tr>\n",
              "      <th>1</th>\n",
              "      <td>man</td>\n",
              "    </tr>\n",
              "    <tr>\n",
              "      <th>2</th>\n",
              "      <td>king</td>\n",
              "    </tr>\n",
              "    <tr>\n",
              "      <th>3</th>\n",
              "      <td>man</td>\n",
              "    </tr>\n",
              "    <tr>\n",
              "      <th>4</th>\n",
              "      <td>king</td>\n",
              "    </tr>\n",
              "    <tr>\n",
              "      <th>5</th>\n",
              "      <td>strong</td>\n",
              "    </tr>\n",
              "    <tr>\n",
              "      <th>6</th>\n",
              "      <td>wise</td>\n",
              "    </tr>\n",
              "    <tr>\n",
              "      <th>7</th>\n",
              "      <td>woman</td>\n",
              "    </tr>\n",
              "    <tr>\n",
              "      <th>8</th>\n",
              "      <td>queen</td>\n",
              "    </tr>\n",
              "    <tr>\n",
              "      <th>9</th>\n",
              "      <td>woman</td>\n",
              "    </tr>\n",
              "    <tr>\n",
              "      <th>10</th>\n",
              "      <td>queen</td>\n",
              "    </tr>\n",
              "    <tr>\n",
              "      <th>11</th>\n",
              "      <td>wise</td>\n",
              "    </tr>\n",
              "    <tr>\n",
              "      <th>12</th>\n",
              "      <td>young</td>\n",
              "    </tr>\n",
              "    <tr>\n",
              "      <th>13</th>\n",
              "      <td>man</td>\n",
              "    </tr>\n",
              "    <tr>\n",
              "      <th>14</th>\n",
              "      <td>boy</td>\n",
              "    </tr>\n",
              "    <tr>\n",
              "      <th>15</th>\n",
              "      <td>man</td>\n",
              "    </tr>\n",
              "    <tr>\n",
              "      <th>16</th>\n",
              "      <td>boy</td>\n",
              "    </tr>\n",
              "    <tr>\n",
              "      <th>17</th>\n",
              "      <td>young</td>\n",
              "    </tr>\n",
              "    <tr>\n",
              "      <th>18</th>\n",
              "      <td>young</td>\n",
              "    </tr>\n",
              "    <tr>\n",
              "      <th>19</th>\n",
              "      <td>woman</td>\n",
              "    </tr>\n",
              "    <tr>\n",
              "      <th>20</th>\n",
              "      <td>girl</td>\n",
              "    </tr>\n",
              "    <tr>\n",
              "      <th>21</th>\n",
              "      <td>woman</td>\n",
              "    </tr>\n",
              "    <tr>\n",
              "      <th>22</th>\n",
              "      <td>girl</td>\n",
              "    </tr>\n",
              "    <tr>\n",
              "      <th>23</th>\n",
              "      <td>young</td>\n",
              "    </tr>\n",
              "    <tr>\n",
              "      <th>24</th>\n",
              "      <td>young</td>\n",
              "    </tr>\n",
              "    <tr>\n",
              "      <th>25</th>\n",
              "      <td>king</td>\n",
              "    </tr>\n",
              "    <tr>\n",
              "      <th>26</th>\n",
              "      <td>prince</td>\n",
              "    </tr>\n",
              "    <tr>\n",
              "      <th>27</th>\n",
              "      <td>king</td>\n",
              "    </tr>\n",
              "    <tr>\n",
              "      <th>28</th>\n",
              "      <td>prince</td>\n",
              "    </tr>\n",
              "    <tr>\n",
              "      <th>29</th>\n",
              "      <td>young</td>\n",
              "    </tr>\n",
              "    <tr>\n",
              "      <th>30</th>\n",
              "      <td>young</td>\n",
              "    </tr>\n",
              "    <tr>\n",
              "      <th>31</th>\n",
              "      <td>queen</td>\n",
              "    </tr>\n",
              "    <tr>\n",
              "      <th>32</th>\n",
              "      <td>princess</td>\n",
              "    </tr>\n",
              "    <tr>\n",
              "      <th>33</th>\n",
              "      <td>queen</td>\n",
              "    </tr>\n",
              "    <tr>\n",
              "      <th>34</th>\n",
              "      <td>princess</td>\n",
              "    </tr>\n",
              "    <tr>\n",
              "      <th>35</th>\n",
              "      <td>young</td>\n",
              "    </tr>\n",
              "    <tr>\n",
              "      <th>36</th>\n",
              "      <td>strong</td>\n",
              "    </tr>\n",
              "    <tr>\n",
              "      <th>37</th>\n",
              "      <td>man</td>\n",
              "    </tr>\n",
              "    <tr>\n",
              "      <th>38</th>\n",
              "      <td>pretty</td>\n",
              "    </tr>\n",
              "    <tr>\n",
              "      <th>39</th>\n",
              "      <td>woman</td>\n",
              "    </tr>\n",
              "    <tr>\n",
              "      <th>40</th>\n",
              "      <td>boy</td>\n",
              "    </tr>\n",
              "    <tr>\n",
              "      <th>41</th>\n",
              "      <td>king</td>\n",
              "    </tr>\n",
              "    <tr>\n",
              "      <th>42</th>\n",
              "      <td>prince</td>\n",
              "    </tr>\n",
              "    <tr>\n",
              "      <th>43</th>\n",
              "      <td>king</td>\n",
              "    </tr>\n",
              "    <tr>\n",
              "      <th>44</th>\n",
              "      <td>prince</td>\n",
              "    </tr>\n",
              "    <tr>\n",
              "      <th>45</th>\n",
              "      <td>boy</td>\n",
              "    </tr>\n",
              "    <tr>\n",
              "      <th>46</th>\n",
              "      <td>girl</td>\n",
              "    </tr>\n",
              "    <tr>\n",
              "      <th>47</th>\n",
              "      <td>queen</td>\n",
              "    </tr>\n",
              "    <tr>\n",
              "      <th>48</th>\n",
              "      <td>princess</td>\n",
              "    </tr>\n",
              "    <tr>\n",
              "      <th>49</th>\n",
              "      <td>queen</td>\n",
              "    </tr>\n",
              "    <tr>\n",
              "      <th>50</th>\n",
              "      <td>princess</td>\n",
              "    </tr>\n",
              "    <tr>\n",
              "      <th>51</th>\n",
              "      <td>girl</td>\n",
              "    </tr>\n",
              "  </tbody>\n",
              "</table>\n",
              "</div>"
            ],
            "text/plain": [
              "       label\n",
              "0     strong\n",
              "1        man\n",
              "2       king\n",
              "3        man\n",
              "4       king\n",
              "5     strong\n",
              "6       wise\n",
              "7      woman\n",
              "8      queen\n",
              "9      woman\n",
              "10     queen\n",
              "11      wise\n",
              "12     young\n",
              "13       man\n",
              "14       boy\n",
              "15       man\n",
              "16       boy\n",
              "17     young\n",
              "18     young\n",
              "19     woman\n",
              "20      girl\n",
              "21     woman\n",
              "22      girl\n",
              "23     young\n",
              "24     young\n",
              "25      king\n",
              "26    prince\n",
              "27      king\n",
              "28    prince\n",
              "29     young\n",
              "30     young\n",
              "31     queen\n",
              "32  princess\n",
              "33     queen\n",
              "34  princess\n",
              "35     young\n",
              "36    strong\n",
              "37       man\n",
              "38    pretty\n",
              "39     woman\n",
              "40       boy\n",
              "41      king\n",
              "42    prince\n",
              "43      king\n",
              "44    prince\n",
              "45       boy\n",
              "46      girl\n",
              "47     queen\n",
              "48  princess\n",
              "49     queen\n",
              "50  princess\n",
              "51      girl"
            ]
          },
          "metadata": {},
          "execution_count": 21
        }
      ]
    },
    {
      "cell_type": "code",
      "metadata": {
        "colab": {
          "base_uri": "https://localhost:8080/"
        },
        "id": "JAlK9H4xr1cK",
        "outputId": "574ececb-13b0-42ab-fca5-0e8b3a22b4c9"
      },
      "source": [
        "x = df['input'].tolist()\n",
        "x"
      ],
      "execution_count": 22,
      "outputs": [
        {
          "output_type": "execute_result",
          "data": {
            "text/plain": [
              "['king',\n",
              " 'king',\n",
              " 'strong',\n",
              " 'strong',\n",
              " 'man',\n",
              " 'man',\n",
              " 'queen',\n",
              " 'queen',\n",
              " 'wise',\n",
              " 'wise',\n",
              " 'woman',\n",
              " 'woman',\n",
              " 'boy',\n",
              " 'boy',\n",
              " 'young',\n",
              " 'young',\n",
              " 'man',\n",
              " 'man',\n",
              " 'girl',\n",
              " 'girl',\n",
              " 'young',\n",
              " 'young',\n",
              " 'woman',\n",
              " 'woman',\n",
              " 'prince',\n",
              " 'prince',\n",
              " 'young',\n",
              " 'young',\n",
              " 'king',\n",
              " 'king',\n",
              " 'princess',\n",
              " 'princess',\n",
              " 'young',\n",
              " 'young',\n",
              " 'queen',\n",
              " 'queen',\n",
              " 'man',\n",
              " 'strong',\n",
              " 'woman',\n",
              " 'pretty',\n",
              " 'prince',\n",
              " 'prince',\n",
              " 'boy',\n",
              " 'boy',\n",
              " 'king',\n",
              " 'king',\n",
              " 'princess',\n",
              " 'princess',\n",
              " 'girl',\n",
              " 'girl',\n",
              " 'queen',\n",
              " 'queen']"
            ]
          },
          "metadata": {},
          "execution_count": 22
        }
      ]
    },
    {
      "cell_type": "code",
      "metadata": {
        "colab": {
          "base_uri": "https://localhost:8080/"
        },
        "id": "l2tnO_5ctcO2",
        "outputId": "128b2021-fc8a-43e6-f63b-132419d040bd"
      },
      "source": [
        "y = df['label'].tolist()\n",
        "y"
      ],
      "execution_count": 23,
      "outputs": [
        {
          "output_type": "execute_result",
          "data": {
            "text/plain": [
              "['strong',\n",
              " 'man',\n",
              " 'king',\n",
              " 'man',\n",
              " 'king',\n",
              " 'strong',\n",
              " 'wise',\n",
              " 'woman',\n",
              " 'queen',\n",
              " 'woman',\n",
              " 'queen',\n",
              " 'wise',\n",
              " 'young',\n",
              " 'man',\n",
              " 'boy',\n",
              " 'man',\n",
              " 'boy',\n",
              " 'young',\n",
              " 'young',\n",
              " 'woman',\n",
              " 'girl',\n",
              " 'woman',\n",
              " 'girl',\n",
              " 'young',\n",
              " 'young',\n",
              " 'king',\n",
              " 'prince',\n",
              " 'king',\n",
              " 'prince',\n",
              " 'young',\n",
              " 'young',\n",
              " 'queen',\n",
              " 'princess',\n",
              " 'queen',\n",
              " 'princess',\n",
              " 'young',\n",
              " 'strong',\n",
              " 'man',\n",
              " 'pretty',\n",
              " 'woman',\n",
              " 'boy',\n",
              " 'king',\n",
              " 'prince',\n",
              " 'king',\n",
              " 'prince',\n",
              " 'boy',\n",
              " 'girl',\n",
              " 'queen',\n",
              " 'princess',\n",
              " 'queen',\n",
              " 'princess',\n",
              " 'girl']"
            ]
          },
          "metadata": {},
          "execution_count": 23
        }
      ]
    },
    {
      "cell_type": "code",
      "metadata": {
        "colab": {
          "base_uri": "https://localhost:8080/"
        },
        "id": "7koFSzLxsZT5",
        "outputId": "f44e9ffe-308b-4ef5-8601-9ba9685007c1"
      },
      "source": [
        "type(x)"
      ],
      "execution_count": 24,
      "outputs": [
        {
          "output_type": "execute_result",
          "data": {
            "text/plain": [
              "list"
            ]
          },
          "metadata": {},
          "execution_count": 24
        }
      ]
    },
    {
      "cell_type": "code",
      "metadata": {
        "colab": {
          "base_uri": "https://localhost:8080/"
        },
        "id": "vMCdV4o6tt_s",
        "outputId": "20b65852-6332-468a-bcfc-e28c385f5406"
      },
      "source": [
        "type(y)"
      ],
      "execution_count": 25,
      "outputs": [
        {
          "output_type": "execute_result",
          "data": {
            "text/plain": [
              "list"
            ]
          },
          "metadata": {},
          "execution_count": 25
        }
      ]
    },
    {
      "cell_type": "code",
      "metadata": {
        "colab": {
          "base_uri": "https://localhost:8080/"
        },
        "id": "uGQYfO-sXEWJ",
        "outputId": "05d44cc7-5464-4a23-f1e5-712d42ad60f4"
      },
      "source": [
        "len(words)"
      ],
      "execution_count": 26,
      "outputs": [
        {
          "output_type": "execute_result",
          "data": {
            "text/plain": [
              "12"
            ]
          },
          "metadata": {},
          "execution_count": 26
        }
      ]
    },
    {
      "cell_type": "code",
      "metadata": {
        "colab": {
          "base_uri": "https://localhost:8080/"
        },
        "id": "s30JlOUuso3Y",
        "outputId": "f38c2c49-7c79-42b3-8d06-78153734dcc5"
      },
      "source": [
        "vocab_size = len(words)\n",
        "encoded_x = [one_hot(d,vocab_size) for d in x]\n",
        "print(encoded_x)"
      ],
      "execution_count": 27,
      "outputs": [
        {
          "output_type": "stream",
          "name": "stdout",
          "text": [
            "[[11], [11], [3], [3], [8], [8], [2], [2], [7], [7], [3], [3], [5], [5], [10], [10], [8], [8], [7], [7], [10], [10], [3], [3], [7], [7], [10], [10], [11], [11], [7], [7], [10], [10], [2], [2], [8], [3], [3], [9], [7], [7], [5], [5], [11], [11], [7], [7], [7], [7], [2], [2]]\n"
          ]
        }
      ]
    },
    {
      "cell_type": "code",
      "metadata": {
        "colab": {
          "base_uri": "https://localhost:8080/"
        },
        "id": "WE4LjI5wt0YP",
        "outputId": "be06eee5-c065-4d76-9061-423a04046683"
      },
      "source": [
        "vocab_size = len(words)\n",
        "encoded_y = [one_hot(d,vocab_size) for d in y]\n",
        "print(encoded_y)"
      ],
      "execution_count": 28,
      "outputs": [
        {
          "output_type": "stream",
          "name": "stdout",
          "text": [
            "[[3], [8], [11], [8], [11], [3], [7], [3], [2], [3], [2], [7], [10], [8], [5], [8], [5], [10], [10], [3], [7], [3], [7], [10], [10], [11], [7], [11], [7], [10], [10], [2], [7], [2], [7], [10], [3], [8], [9], [3], [5], [11], [7], [11], [7], [5], [7], [2], [7], [2], [7], [7]]\n"
          ]
        }
      ]
    },
    {
      "cell_type": "code",
      "metadata": {
        "colab": {
          "base_uri": "https://localhost:8080/"
        },
        "id": "KWc6exvctVBD",
        "outputId": "071badd1-81f2-412d-cc3e-7735a30be4b1"
      },
      "source": [
        "np.shape(encoded_x)"
      ],
      "execution_count": 29,
      "outputs": [
        {
          "output_type": "execute_result",
          "data": {
            "text/plain": [
              "(52, 1)"
            ]
          },
          "metadata": {},
          "execution_count": 29
        }
      ]
    },
    {
      "cell_type": "code",
      "metadata": {
        "colab": {
          "base_uri": "https://localhost:8080/"
        },
        "id": "lna7H7Cvt7zx",
        "outputId": "86a6f943-4e32-46cf-c2f0-50171a718301"
      },
      "source": [
        "np.shape(encoded_y)"
      ],
      "execution_count": 30,
      "outputs": [
        {
          "output_type": "execute_result",
          "data": {
            "text/plain": [
              "(52, 1)"
            ]
          },
          "metadata": {},
          "execution_count": 30
        }
      ]
    },
    {
      "cell_type": "code",
      "metadata": {
        "colab": {
          "base_uri": "https://localhost:8080/"
        },
        "id": "Y3LDFNUQH0Nm",
        "outputId": "eb0903d4-c3fb-47d7-ce22-df8323c9d876"
      },
      "source": [
        "r_encoded_x = np.reshape(encoded_x,(1,52))\n",
        "r_encoded_x.shape"
      ],
      "execution_count": 31,
      "outputs": [
        {
          "output_type": "execute_result",
          "data": {
            "text/plain": [
              "(1, 52)"
            ]
          },
          "metadata": {},
          "execution_count": 31
        }
      ]
    },
    {
      "cell_type": "code",
      "metadata": {
        "colab": {
          "base_uri": "https://localhost:8080/"
        },
        "id": "qln-XXPg93Vh",
        "outputId": "c8cba4d2-66e8-4701-cecf-6dc5edef02c3"
      },
      "source": [
        "r_encoded_y = np.reshape(encoded_y,(1,52))\n",
        "r_encoded_y.shape"
      ],
      "execution_count": 32,
      "outputs": [
        {
          "output_type": "execute_result",
          "data": {
            "text/plain": [
              "(1, 52)"
            ]
          },
          "metadata": {},
          "execution_count": 32
        }
      ]
    },
    {
      "cell_type": "code",
      "metadata": {
        "colab": {
          "base_uri": "https://localhost:8080/"
        },
        "id": "gEWrUVbL4FFS",
        "outputId": "81c80b51-2b0d-4149-c9cf-c24bf510cec5"
      },
      "source": [
        "lw=len(words)\n",
        "lw"
      ],
      "execution_count": 33,
      "outputs": [
        {
          "output_type": "execute_result",
          "data": {
            "text/plain": [
              "12"
            ]
          },
          "metadata": {},
          "execution_count": 33
        }
      ]
    },
    {
      "cell_type": "code",
      "metadata": {
        "id": "5YRMFPDq7gzb"
      },
      "source": [
        "embedded_vector_size = 5\n",
        "max_length = 1\n",
        "model = Sequential()\n",
        "model.add(Embedding(vocab_size, embedded_vector_size, input_length=max_length,name=\"Embedding\"))\n",
        "model.add(Flatten())\n",
        "model.add(Dense(vocab_size, activation='softmax'))"
      ],
      "execution_count": 34,
      "outputs": []
    },
    {
      "cell_type": "code",
      "metadata": {
        "id": "aatHVBRfvnl8"
      },
      "source": [
        "X = encoded_x\n",
        "Y = encoded_y"
      ],
      "execution_count": 35,
      "outputs": []
    },
    {
      "cell_type": "code",
      "metadata": {
        "id": "_JxFo9Igeb_f",
        "colab": {
          "base_uri": "https://localhost:8080/"
        },
        "outputId": "9794f246-99a5-4e53-c508-28e845120ad6"
      },
      "source": [
        "model.compile(optimizer='adam', loss='sparse_categorical_crossentropy', metrics=['accuracy'])\n",
        "model.summary()"
      ],
      "execution_count": 36,
      "outputs": [
        {
          "output_type": "stream",
          "name": "stdout",
          "text": [
            "Model: \"sequential\"\n",
            "_________________________________________________________________\n",
            "Layer (type)                 Output Shape              Param #   \n",
            "=================================================================\n",
            "Embedding (Embedding)        (None, 1, 5)              60        \n",
            "_________________________________________________________________\n",
            "flatten (Flatten)            (None, 5)                 0         \n",
            "_________________________________________________________________\n",
            "dense (Dense)                (None, 12)                72        \n",
            "=================================================================\n",
            "Total params: 132\n",
            "Trainable params: 132\n",
            "Non-trainable params: 0\n",
            "_________________________________________________________________\n"
          ]
        }
      ]
    },
    {
      "cell_type": "code",
      "metadata": {
        "colab": {
          "base_uri": "https://localhost:8080/"
        },
        "id": "9nzHY438F1th",
        "outputId": "28ff2277-fa2d-4f61-9371-9fe99310ceb6"
      },
      "source": [
        "model.fit(Y,X,epochs=50, verbose=0)"
      ],
      "execution_count": 37,
      "outputs": [
        {
          "output_type": "execute_result",
          "data": {
            "text/plain": [
              "<keras.callbacks.History at 0x7fc0d091ea50>"
            ]
          },
          "metadata": {},
          "execution_count": 37
        }
      ]
    },
    {
      "cell_type": "code",
      "metadata": {
        "colab": {
          "base_uri": "https://localhost:8080/"
        },
        "id": "C1SCR-WOyNYK",
        "outputId": "dcd58e5f-bebb-43c3-a000-fcbe2591b6fc"
      },
      "source": [
        "loss, accuracy = model.evaluate(X, Y)"
      ],
      "execution_count": 38,
      "outputs": [
        {
          "output_type": "stream",
          "name": "stdout",
          "text": [
            "2/2 [==============================] - 0s 6ms/step - loss: 2.3450 - accuracy: 0.3077\n"
          ]
        }
      ]
    },
    {
      "cell_type": "code",
      "metadata": {
        "id": "oAjkumJSxHzA",
        "colab": {
          "base_uri": "https://localhost:8080/"
        },
        "outputId": "f98b67e2-863a-4b7d-e061-84c1c3960747"
      },
      "source": [
        "weights = model.get_layer('Embedding').get_weights()[0]\n",
        "len(weights)"
      ],
      "execution_count": 39,
      "outputs": [
        {
          "output_type": "execute_result",
          "data": {
            "text/plain": [
              "12"
            ]
          },
          "metadata": {},
          "execution_count": 39
        }
      ]
    },
    {
      "cell_type": "code",
      "metadata": {
        "colab": {
          "base_uri": "https://localhost:8080/"
        },
        "id": "V5Vuh4CwY-1B",
        "outputId": "291eaeb8-5f7a-43c3-a2e6-3ffe83353971"
      },
      "source": [
        "weights"
      ],
      "execution_count": 40,
      "outputs": [
        {
          "output_type": "execute_result",
          "data": {
            "text/plain": [
              "array([[ 0.02573247, -0.0008163 ,  0.00057399, -0.01327477,  0.03331092],\n",
              "       [-0.03787242,  0.03024719, -0.04563653,  0.01469585, -0.02015836],\n",
              "       [ 0.06831645,  0.10794768, -0.04345185,  0.01720954, -0.06118944],\n",
              "       [ 0.09820179,  0.09333408, -0.09597109,  0.03651422,  0.01301358],\n",
              "       [-0.02017862, -0.03070487,  0.00286074, -0.0416612 ,  0.03011565],\n",
              "       [ 0.02936158,  0.09790126, -0.07959351, -0.04768711,  0.0200714 ],\n",
              "       [-0.00413907,  0.00212695,  0.01292915,  0.04697743,  0.0139069 ],\n",
              "       [ 0.13349038, -0.05877284,  0.11326931, -0.0902103 ,  0.04344185],\n",
              "       [ 0.08105102, -0.10223393,  0.06971233, -0.12684464,  0.07480845],\n",
              "       [ 0.09192077, -0.07544856,  0.1180783 , -0.0778348 ,  0.02896291],\n",
              "       [ 0.04923254,  0.09601523, -0.08696069, -0.12529774, -0.03584122],\n",
              "       [ 0.11991989,  0.10095876, -0.06451272, -0.01541064, -0.03981029]],\n",
              "      dtype=float32)"
            ]
          },
          "metadata": {},
          "execution_count": 40
        }
      ]
    },
    {
      "cell_type": "code",
      "metadata": {
        "colab": {
          "base_uri": "https://localhost:8080/"
        },
        "id": "2YihhPZbZB3V",
        "outputId": "eee936db-5c1b-4515-efc7-82355d245efa"
      },
      "source": [
        "weights[3]"
      ],
      "execution_count": 41,
      "outputs": [
        {
          "output_type": "execute_result",
          "data": {
            "text/plain": [
              "array([ 0.09820179,  0.09333408, -0.09597109,  0.03651422,  0.01301358],\n",
              "      dtype=float32)"
            ]
          },
          "metadata": {},
          "execution_count": 41
        }
      ]
    },
    {
      "cell_type": "code",
      "metadata": {
        "colab": {
          "base_uri": "https://localhost:8080/",
          "height": 421
        },
        "id": "swjzbqxpZg1A",
        "outputId": "4f050f33-4f47-44b5-de7c-2fb22e8a3049"
      },
      "source": [
        "w2v_df = pd.DataFrame(weights, columns = ['x1', 'x2','x3', 'x4','x5'])\n",
        "w2v_df['word'] = words\n",
        "w2v_df = w2v_df[['word', 'x1', 'x2','x3', 'x4','x5']]\n",
        "w2v_df"
      ],
      "execution_count": 42,
      "outputs": [
        {
          "output_type": "execute_result",
          "data": {
            "text/html": [
              "<div>\n",
              "<style scoped>\n",
              "    .dataframe tbody tr th:only-of-type {\n",
              "        vertical-align: middle;\n",
              "    }\n",
              "\n",
              "    .dataframe tbody tr th {\n",
              "        vertical-align: top;\n",
              "    }\n",
              "\n",
              "    .dataframe thead th {\n",
              "        text-align: right;\n",
              "    }\n",
              "</style>\n",
              "<table border=\"1\" class=\"dataframe\">\n",
              "  <thead>\n",
              "    <tr style=\"text-align: right;\">\n",
              "      <th></th>\n",
              "      <th>word</th>\n",
              "      <th>x1</th>\n",
              "      <th>x2</th>\n",
              "      <th>x3</th>\n",
              "      <th>x4</th>\n",
              "      <th>x5</th>\n",
              "    </tr>\n",
              "  </thead>\n",
              "  <tbody>\n",
              "    <tr>\n",
              "      <th>0</th>\n",
              "      <td>girl</td>\n",
              "      <td>0.025732</td>\n",
              "      <td>-0.000816</td>\n",
              "      <td>0.000574</td>\n",
              "      <td>-0.013275</td>\n",
              "      <td>0.033311</td>\n",
              "    </tr>\n",
              "    <tr>\n",
              "      <th>1</th>\n",
              "      <td>princess</td>\n",
              "      <td>-0.037872</td>\n",
              "      <td>0.030247</td>\n",
              "      <td>-0.045637</td>\n",
              "      <td>0.014696</td>\n",
              "      <td>-0.020158</td>\n",
              "    </tr>\n",
              "    <tr>\n",
              "      <th>2</th>\n",
              "      <td>boy</td>\n",
              "      <td>0.068316</td>\n",
              "      <td>0.107948</td>\n",
              "      <td>-0.043452</td>\n",
              "      <td>0.017210</td>\n",
              "      <td>-0.061189</td>\n",
              "    </tr>\n",
              "    <tr>\n",
              "      <th>3</th>\n",
              "      <td>queen</td>\n",
              "      <td>0.098202</td>\n",
              "      <td>0.093334</td>\n",
              "      <td>-0.095971</td>\n",
              "      <td>0.036514</td>\n",
              "      <td>0.013014</td>\n",
              "    </tr>\n",
              "    <tr>\n",
              "      <th>4</th>\n",
              "      <td>man</td>\n",
              "      <td>-0.020179</td>\n",
              "      <td>-0.030705</td>\n",
              "      <td>0.002861</td>\n",
              "      <td>-0.041661</td>\n",
              "      <td>0.030116</td>\n",
              "    </tr>\n",
              "    <tr>\n",
              "      <th>5</th>\n",
              "      <td>king</td>\n",
              "      <td>0.029362</td>\n",
              "      <td>0.097901</td>\n",
              "      <td>-0.079594</td>\n",
              "      <td>-0.047687</td>\n",
              "      <td>0.020071</td>\n",
              "    </tr>\n",
              "    <tr>\n",
              "      <th>6</th>\n",
              "      <td>young</td>\n",
              "      <td>-0.004139</td>\n",
              "      <td>0.002127</td>\n",
              "      <td>0.012929</td>\n",
              "      <td>0.046977</td>\n",
              "      <td>0.013907</td>\n",
              "    </tr>\n",
              "    <tr>\n",
              "      <th>7</th>\n",
              "      <td>pretty</td>\n",
              "      <td>0.133490</td>\n",
              "      <td>-0.058773</td>\n",
              "      <td>0.113269</td>\n",
              "      <td>-0.090210</td>\n",
              "      <td>0.043442</td>\n",
              "    </tr>\n",
              "    <tr>\n",
              "      <th>8</th>\n",
              "      <td>wise</td>\n",
              "      <td>0.081051</td>\n",
              "      <td>-0.102234</td>\n",
              "      <td>0.069712</td>\n",
              "      <td>-0.126845</td>\n",
              "      <td>0.074808</td>\n",
              "    </tr>\n",
              "    <tr>\n",
              "      <th>9</th>\n",
              "      <td>strong</td>\n",
              "      <td>0.091921</td>\n",
              "      <td>-0.075449</td>\n",
              "      <td>0.118078</td>\n",
              "      <td>-0.077835</td>\n",
              "      <td>0.028963</td>\n",
              "    </tr>\n",
              "    <tr>\n",
              "      <th>10</th>\n",
              "      <td>prince</td>\n",
              "      <td>0.049233</td>\n",
              "      <td>0.096015</td>\n",
              "      <td>-0.086961</td>\n",
              "      <td>-0.125298</td>\n",
              "      <td>-0.035841</td>\n",
              "    </tr>\n",
              "    <tr>\n",
              "      <th>11</th>\n",
              "      <td>woman</td>\n",
              "      <td>0.119920</td>\n",
              "      <td>0.100959</td>\n",
              "      <td>-0.064513</td>\n",
              "      <td>-0.015411</td>\n",
              "      <td>-0.039810</td>\n",
              "    </tr>\n",
              "  </tbody>\n",
              "</table>\n",
              "</div>"
            ],
            "text/plain": [
              "        word        x1        x2        x3        x4        x5\n",
              "0       girl  0.025732 -0.000816  0.000574 -0.013275  0.033311\n",
              "1   princess -0.037872  0.030247 -0.045637  0.014696 -0.020158\n",
              "2        boy  0.068316  0.107948 -0.043452  0.017210 -0.061189\n",
              "3      queen  0.098202  0.093334 -0.095971  0.036514  0.013014\n",
              "4        man -0.020179 -0.030705  0.002861 -0.041661  0.030116\n",
              "5       king  0.029362  0.097901 -0.079594 -0.047687  0.020071\n",
              "6      young -0.004139  0.002127  0.012929  0.046977  0.013907\n",
              "7     pretty  0.133490 -0.058773  0.113269 -0.090210  0.043442\n",
              "8       wise  0.081051 -0.102234  0.069712 -0.126845  0.074808\n",
              "9     strong  0.091921 -0.075449  0.118078 -0.077835  0.028963\n",
              "10    prince  0.049233  0.096015 -0.086961 -0.125298 -0.035841\n",
              "11     woman  0.119920  0.100959 -0.064513 -0.015411 -0.039810"
            ]
          },
          "metadata": {},
          "execution_count": 42
        }
      ]
    },
    {
      "cell_type": "code",
      "metadata": {
        "colab": {
          "base_uri": "https://localhost:8080/",
          "height": 265
        },
        "id": "Tpds9oZka-dt",
        "outputId": "ec4e0ecc-de94-46b8-ad4f-79865bb8d17b"
      },
      "source": [
        "import matplotlib.pyplot as plt\n",
        "\n",
        "fig, ax = plt.subplots()\n",
        "\n",
        "for word, x1, x2, x3, x4, x5 in zip(w2v_df['word'], w2v_df['x1'], w2v_df ['x2'], w2v_df['x3'], w2v_df ['x4'], w2v_df['x5']):\n",
        "    ax.annotate(word, (x1,x2 ))\n",
        "\n",
        "PADDING = 1.0\n",
        "x_axis_min = np.amin(weights, axis=0)[0]-PADDING\n",
        "y_axis_min = np.amin(weights, axis=0)[1]-PADDING\n",
        "x_axis_max = np.amax(weights, axis=0)[0]+PADDING\n",
        "y_axis_max = np.amax(weights, axis=0)[1]+PADDING\n",
        "\n",
        "plt.xlim(x_axis_min, x_axis_max)\n",
        "plt.ylim(y_axis_min, y_axis_max)\n",
        "plt.rcParams[\"figure.figsize\"] = (10,10)\n",
        "\n",
        "plt.show()"
      ],
      "execution_count": 43,
      "outputs": [
        {
          "output_type": "display_data",
          "data": {
            "image/png": "[encoded data removed]",
            "text/plain": [
              "<Figure size 432x288 with 1 Axes>"
            ]
          },
          "metadata": {
            "needs_background": "light"
          }
        }
      ]
    },
    {
      "cell_type": "code",
      "metadata": {
        "id": "nBtKlsFzL-wb"
      },
      "source": [
        "#Reference\n",
        "#https://github.com/minsuk-heo/python_tutorial/blob/master/data_science/nlp/word2vec_tensorflow.ipynb"
      ],
      "execution_count": null,
      "outputs": []
    }
  ]
}